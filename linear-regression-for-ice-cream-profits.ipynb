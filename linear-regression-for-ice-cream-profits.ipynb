{
 "cells": [
  {
   "cell_type": "markdown",
   "id": "a889e806",
   "metadata": {
    "papermill": {
     "duration": 0.009046,
     "end_time": "2024-03-11T20:03:52.801178",
     "exception": false,
     "start_time": "2024-03-11T20:03:52.792132",
     "status": "completed"
    },
    "tags": []
   },
   "source": [
    "# **Linear Regression for Ice Cream Profits**\n",
    "\n",
    "**Import the libraries.**"
   ]
  },
  {
   "cell_type": "code",
   "execution_count": 1,
   "id": "927134b8",
   "metadata": {
    "_cell_guid": "b1076dfc-b9ad-4769-8c92-a6c4dae69d19",
    "_uuid": "8f2839f25d086af736a60e9eeb907d3b93b6e0e5",
    "execution": {
     "iopub.execute_input": "2024-03-11T20:03:52.819578Z",
     "iopub.status.busy": "2024-03-11T20:03:52.818751Z",
     "iopub.status.idle": "2024-03-11T20:03:56.188046Z",
     "shell.execute_reply": "2024-03-11T20:03:56.186560Z"
    },
    "papermill": {
     "duration": 3.382492,
     "end_time": "2024-03-11T20:03:56.191758",
     "exception": false,
     "start_time": "2024-03-11T20:03:52.809266",
     "status": "completed"
    },
    "tags": []
   },
   "outputs": [],
   "source": [
    "import pandas as pd\n",
    "import matplotlib.pyplot as plt\n",
    "import seaborn as sns\n",
    "from sklearn.model_selection import train_test_split\n",
    "from sklearn.linear_model import LinearRegression\n",
    "from sklearn.metrics import r2_score, mean_squared_error, mean_absolute_error"
   ]
  },
  {
   "cell_type": "markdown",
   "id": "7eec333e",
   "metadata": {
    "papermill": {
     "duration": 0.007368,
     "end_time": "2024-03-11T20:03:56.207838",
     "exception": false,
     "start_time": "2024-03-11T20:03:56.200470",
     "status": "completed"
    },
    "tags": []
   },
   "source": [
    "**Read the dataset.**"
   ]
  },
  {
   "cell_type": "code",
   "execution_count": 2,
   "id": "81a478b8",
   "metadata": {
    "execution": {
     "iopub.execute_input": "2024-03-11T20:03:56.228009Z",
     "iopub.status.busy": "2024-03-11T20:03:56.227296Z",
     "iopub.status.idle": "2024-03-11T20:03:56.252905Z",
     "shell.execute_reply": "2024-03-11T20:03:56.251507Z"
    },
    "papermill": {
     "duration": 0.038904,
     "end_time": "2024-03-11T20:03:56.256301",
     "exception": false,
     "start_time": "2024-03-11T20:03:56.217397",
     "status": "completed"
    },
    "tags": []
   },
   "outputs": [],
   "source": [
    "data = pd.read_csv('/kaggle/input/temperature-and-ice-cream-sales/Ice Cream Sales - temperatures.csv')"
   ]
  },
  {
   "cell_type": "markdown",
   "id": "f3b662d3",
   "metadata": {
    "papermill": {
     "duration": 0.00779,
     "end_time": "2024-03-11T20:03:56.272231",
     "exception": false,
     "start_time": "2024-03-11T20:03:56.264441",
     "status": "completed"
    },
    "tags": []
   },
   "source": [
    "**Display the first few rows of the data.**"
   ]
  },
  {
   "cell_type": "code",
   "execution_count": 3,
   "id": "46b9eb39",
   "metadata": {
    "execution": {
     "iopub.execute_input": "2024-03-11T20:03:56.291123Z",
     "iopub.status.busy": "2024-03-11T20:03:56.290615Z",
     "iopub.status.idle": "2024-03-11T20:03:56.305825Z",
     "shell.execute_reply": "2024-03-11T20:03:56.304585Z"
    },
    "papermill": {
     "duration": 0.028529,
     "end_time": "2024-03-11T20:03:56.308859",
     "exception": false,
     "start_time": "2024-03-11T20:03:56.280330",
     "status": "completed"
    },
    "tags": []
   },
   "outputs": [
    {
     "name": "stdout",
     "output_type": "stream",
     "text": [
      "First few rows of the data:\n",
      "    Temperature  Ice Cream Profits\n",
      "0           39              13.17\n",
      "1           40              11.88\n",
      "2           41              18.82\n",
      "3           42              18.65\n",
      "4           43              17.02\n"
     ]
    }
   ],
   "source": [
    "print(\"First few rows of the data:\\n\", data.head())"
   ]
  },
  {
   "cell_type": "markdown",
   "id": "582a2f81",
   "metadata": {
    "papermill": {
     "duration": 0.008207,
     "end_time": "2024-03-11T20:03:56.325386",
     "exception": false,
     "start_time": "2024-03-11T20:03:56.317179",
     "status": "completed"
    },
    "tags": []
   },
   "source": [
    "**Learning Columns.**"
   ]
  },
  {
   "cell_type": "code",
   "execution_count": 4,
   "id": "9e7d5a00",
   "metadata": {
    "execution": {
     "iopub.execute_input": "2024-03-11T20:03:56.343240Z",
     "iopub.status.busy": "2024-03-11T20:03:56.342716Z",
     "iopub.status.idle": "2024-03-11T20:03:56.349469Z",
     "shell.execute_reply": "2024-03-11T20:03:56.348093Z"
    },
    "papermill": {
     "duration": 0.019333,
     "end_time": "2024-03-11T20:03:56.352600",
     "exception": false,
     "start_time": "2024-03-11T20:03:56.333267",
     "status": "completed"
    },
    "tags": []
   },
   "outputs": [
    {
     "name": "stdout",
     "output_type": "stream",
     "text": [
      "Learning Columns:  Index(['Temperature', 'Ice Cream Profits'], dtype='object')\n"
     ]
    }
   ],
   "source": [
    "print(\"Learning Columns: \", data.columns)"
   ]
  },
  {
   "cell_type": "markdown",
   "id": "7a92143d",
   "metadata": {
    "papermill": {
     "duration": 0.007836,
     "end_time": "2024-03-11T20:03:56.368469",
     "exception": false,
     "start_time": "2024-03-11T20:03:56.360633",
     "status": "completed"
    },
    "tags": []
   },
   "source": [
    "**Learning Datatypes of the Columns.**"
   ]
  },
  {
   "cell_type": "code",
   "execution_count": 5,
   "id": "2f3f8d40",
   "metadata": {
    "execution": {
     "iopub.execute_input": "2024-03-11T20:03:56.387212Z",
     "iopub.status.busy": "2024-03-11T20:03:56.386734Z",
     "iopub.status.idle": "2024-03-11T20:03:56.394774Z",
     "shell.execute_reply": "2024-03-11T20:03:56.393445Z"
    },
    "papermill": {
     "duration": 0.021256,
     "end_time": "2024-03-11T20:03:56.397970",
     "exception": false,
     "start_time": "2024-03-11T20:03:56.376714",
     "status": "completed"
    },
    "tags": []
   },
   "outputs": [
    {
     "name": "stdout",
     "output_type": "stream",
     "text": [
      "Learning Datatypes of the Columns:\n",
      " Temperature            int64\n",
      "Ice Cream Profits    float64\n",
      "dtype: object\n"
     ]
    }
   ],
   "source": [
    "print(\"Learning Datatypes of the Columns:\\n\", data.dtypes)"
   ]
  },
  {
   "cell_type": "markdown",
   "id": "5d38ccd0",
   "metadata": {
    "papermill": {
     "duration": 0.00825,
     "end_time": "2024-03-11T20:03:56.414931",
     "exception": false,
     "start_time": "2024-03-11T20:03:56.406681",
     "status": "completed"
    },
    "tags": []
   },
   "source": [
    "**Learning shape of the dataset.**"
   ]
  },
  {
   "cell_type": "code",
   "execution_count": 6,
   "id": "600c6529",
   "metadata": {
    "execution": {
     "iopub.execute_input": "2024-03-11T20:03:56.436856Z",
     "iopub.status.busy": "2024-03-11T20:03:56.435878Z",
     "iopub.status.idle": "2024-03-11T20:03:56.442761Z",
     "shell.execute_reply": "2024-03-11T20:03:56.441470Z"
    },
    "papermill": {
     "duration": 0.020802,
     "end_time": "2024-03-11T20:03:56.445314",
     "exception": false,
     "start_time": "2024-03-11T20:03:56.424512",
     "status": "completed"
    },
    "tags": []
   },
   "outputs": [
    {
     "name": "stdout",
     "output_type": "stream",
     "text": [
      "Learning shape of the dataset:  (365, 2)\n"
     ]
    }
   ],
   "source": [
    "print(\"Learning shape of the dataset: \", data.shape)"
   ]
  },
  {
   "cell_type": "markdown",
   "id": "4e4fb194",
   "metadata": {
    "papermill": {
     "duration": 0.007758,
     "end_time": "2024-03-11T20:03:56.461125",
     "exception": false,
     "start_time": "2024-03-11T20:03:56.453367",
     "status": "completed"
    },
    "tags": []
   },
   "source": [
    "**Check for missing values.**"
   ]
  },
  {
   "cell_type": "code",
   "execution_count": 7,
   "id": "290e7c04",
   "metadata": {
    "execution": {
     "iopub.execute_input": "2024-03-11T20:03:56.479481Z",
     "iopub.status.busy": "2024-03-11T20:03:56.478996Z",
     "iopub.status.idle": "2024-03-11T20:03:56.491095Z",
     "shell.execute_reply": "2024-03-11T20:03:56.489458Z"
    },
    "papermill": {
     "duration": 0.024643,
     "end_time": "2024-03-11T20:03:56.493689",
     "exception": false,
     "start_time": "2024-03-11T20:03:56.469046",
     "status": "completed"
    },
    "tags": []
   },
   "outputs": [
    {
     "name": "stdout",
     "output_type": "stream",
     "text": [
      "Check for missing values:\n",
      " Temperature          0\n",
      "Ice Cream Profits    0\n",
      "dtype: int64\n"
     ]
    }
   ],
   "source": [
    "print(\"Check for missing values:\\n\", data.isnull().sum())"
   ]
  },
  {
   "cell_type": "markdown",
   "id": "f107a270",
   "metadata": {
    "papermill": {
     "duration": 0.008384,
     "end_time": "2024-03-11T20:03:56.510452",
     "exception": false,
     "start_time": "2024-03-11T20:03:56.502068",
     "status": "completed"
    },
    "tags": []
   },
   "source": [
    "**Summary statistics.**"
   ]
  },
  {
   "cell_type": "code",
   "execution_count": 8,
   "id": "bcc50451",
   "metadata": {
    "execution": {
     "iopub.execute_input": "2024-03-11T20:03:56.529890Z",
     "iopub.status.busy": "2024-03-11T20:03:56.529378Z",
     "iopub.status.idle": "2024-03-11T20:03:56.550510Z",
     "shell.execute_reply": "2024-03-11T20:03:56.549294Z"
    },
    "papermill": {
     "duration": 0.033852,
     "end_time": "2024-03-11T20:03:56.553441",
     "exception": false,
     "start_time": "2024-03-11T20:03:56.519589",
     "status": "completed"
    },
    "tags": []
   },
   "outputs": [
    {
     "name": "stdout",
     "output_type": "stream",
     "text": [
      "Summary Statistisc:\n",
      "        Temperature  Ice Cream Profits\n",
      "count   365.000000         365.000000\n",
      "mean     71.980822          52.103616\n",
      "std      13.258510          15.989004\n",
      "min      39.000000          11.880000\n",
      "25%      63.000000          40.650000\n",
      "50%      73.000000          53.620000\n",
      "75%      82.000000          63.630000\n",
      "max     101.000000          89.290000\n"
     ]
    }
   ],
   "source": [
    "print(\"Summary Statistisc:\\n\", data.describe())"
   ]
  },
  {
   "cell_type": "markdown",
   "id": "8df306a4",
   "metadata": {
    "papermill": {
     "duration": 0.007832,
     "end_time": "2024-03-11T20:03:56.569556",
     "exception": false,
     "start_time": "2024-03-11T20:03:56.561724",
     "status": "completed"
    },
    "tags": []
   },
   "source": [
    "# **DATA VISUALIZATION**\n",
    "\n",
    "**Let's observe the relationship between Ice Cream Profits data and Temperature.**"
   ]
  },
  {
   "cell_type": "code",
   "execution_count": 9,
   "id": "41e1e235",
   "metadata": {
    "execution": {
     "iopub.execute_input": "2024-03-11T20:03:56.590647Z",
     "iopub.status.busy": "2024-03-11T20:03:56.589313Z",
     "iopub.status.idle": "2024-03-11T20:03:56.949111Z",
     "shell.execute_reply": "2024-03-11T20:03:56.947870Z"
    },
    "papermill": {
     "duration": 0.372305,
     "end_time": "2024-03-11T20:03:56.951595",
     "exception": false,
     "start_time": "2024-03-11T20:03:56.579290",
     "status": "completed"
    },
    "tags": []
   },
   "outputs": [
    {
     "data": {
      "image/png": "[encoded data removed]",
      "text/plain": [
       "<Figure size 640x480 with 1 Axes>"
      ]
     },
     "metadata": {},
     "output_type": "display_data"
    }
   ],
   "source": [
    "sns.scatterplot(x=\"Ice Cream Profits\", y=\"Temperature\", data=data, color=\"lightblue\")\n",
    "plt.title(\"Ice Cream Profits - Temperature\")\n",
    "plt.xlabel(\"Ice Cream Profits\")\n",
    "plt.ylabel(\"Temperature\")\n",
    "plt.show()"
   ]
  },
  {
   "cell_type": "markdown",
   "id": "e6957c17",
   "metadata": {
    "papermill": {
     "duration": 0.008753,
     "end_time": "2024-03-11T20:03:56.969397",
     "exception": false,
     "start_time": "2024-03-11T20:03:56.960644",
     "status": "completed"
    },
    "tags": []
   },
   "source": [
    "# **LINEAR REGRESSION**\n",
    "\n",
    "**Let's create the Linear Regression model. First, let's divide the data into train and test. Next let's create the model, fit and predict.**"
   ]
  },
  {
   "cell_type": "code",
   "execution_count": 10,
   "id": "da9b0cfc",
   "metadata": {
    "execution": {
     "iopub.execute_input": "2024-03-11T20:03:56.991579Z",
     "iopub.status.busy": "2024-03-11T20:03:56.990960Z",
     "iopub.status.idle": "2024-03-11T20:03:57.022872Z",
     "shell.execute_reply": "2024-03-11T20:03:57.021512Z"
    },
    "papermill": {
     "duration": 0.046853,
     "end_time": "2024-03-11T20:03:57.025919",
     "exception": false,
     "start_time": "2024-03-11T20:03:56.979066",
     "status": "completed"
    },
    "tags": []
   },
   "outputs": [],
   "source": [
    "X = data[[\"Temperature\"]]\n",
    "y = data[[\"Ice Cream Profits\"]]\n",
    "\n",
    "X_train, X_test, y_train, y_test = train_test_split(X, y, test_size=0.2, random_state=42)\n",
    "\n",
    "model = LinearRegression()\n",
    "model.fit(X_train, y_train)\n",
    "y_pred = model.predict(X_test)"
   ]
  },
  {
   "cell_type": "markdown",
   "id": "f5507d82",
   "metadata": {
    "papermill": {
     "duration": 0.0087,
     "end_time": "2024-03-11T20:03:57.043964",
     "exception": false,
     "start_time": "2024-03-11T20:03:57.035264",
     "status": "completed"
    },
    "tags": []
   },
   "source": [
    "# **VISUALIZATION OF THE RESULT**\n",
    "\n",
    "**Pink colored values are the values of real data. The ones in blue are the values predicted by the model.**"
   ]
  },
  {
   "cell_type": "code",
   "execution_count": 11,
   "id": "6bc7f058",
   "metadata": {
    "execution": {
     "iopub.execute_input": "2024-03-11T20:03:57.064845Z",
     "iopub.status.busy": "2024-03-11T20:03:57.063926Z",
     "iopub.status.idle": "2024-03-11T20:03:57.431395Z",
     "shell.execute_reply": "2024-03-11T20:03:57.430012Z"
    },
    "papermill": {
     "duration": 0.382733,
     "end_time": "2024-03-11T20:03:57.435860",
     "exception": false,
     "start_time": "2024-03-11T20:03:57.053127",
     "status": "completed"
    },
    "tags": []
   },
   "outputs": [
    {
     "data": {
      "image/png": "[encoded data removed]",
      "text/plain": [
       "<Figure size 640x480 with 1 Axes>"
      ]
     },
     "metadata": {},
     "output_type": "display_data"
    }
   ],
   "source": [
    "plt.scatter(X_train, y_train, color=\"pink\")\n",
    "X_train_pred = model.predict((X_train))\n",
    "plt.scatter(X_train, X_train_pred, color=\"lightblue\")\n",
    "plt.title('Ice Cream Profits - Temperature')\n",
    "plt.xlabel('Ice Cream Profits')\n",
    "plt.ylabel('Temperature')\n",
    "plt.show()"
   ]
  },
  {
   "cell_type": "markdown",
   "id": "166088c2",
   "metadata": {
    "papermill": {
     "duration": 0.013753,
     "end_time": "2024-03-11T20:03:57.464119",
     "exception": false,
     "start_time": "2024-03-11T20:03:57.450366",
     "status": "completed"
    },
    "tags": []
   },
   "source": [
    "# **SUCCESS RATE OF THE MODEL**"
   ]
  },
  {
   "cell_type": "code",
   "execution_count": 12,
   "id": "1cd5a68a",
   "metadata": {
    "execution": {
     "iopub.execute_input": "2024-03-11T20:03:57.487590Z",
     "iopub.status.busy": "2024-03-11T20:03:57.487033Z",
     "iopub.status.idle": "2024-03-11T20:03:57.500228Z",
     "shell.execute_reply": "2024-03-11T20:03:57.498852Z"
    },
    "papermill": {
     "duration": 0.027645,
     "end_time": "2024-03-11T20:03:57.503096",
     "exception": false,
     "start_time": "2024-03-11T20:03:57.475451",
     "status": "completed"
    },
    "tags": []
   },
   "outputs": [
    {
     "name": "stdout",
     "output_type": "stream",
     "text": [
      "R2 Score:  98.36178994668145\n",
      "Mean Absolute Error:  1.8485293149506414\n",
      "Mean Squared Error:  5.294200791081213\n"
     ]
    }
   ],
   "source": [
    "print(\"R2 Score: \", r2_score(y_test, y_pred)*100)\n",
    "print(\"Mean Absolute Error: \", mean_absolute_error(y_test, y_pred))\n",
    "print(\"Mean Squared Error: \", mean_squared_error(y_test, y_pred))"
   ]
  }
 ],
 "metadata": {
  "kaggle": {
   "accelerator": "none",
   "dataSources": [
    {
     "datasetId": 4465277,
     "sourceId": 7658392,
     "sourceType": "datasetVersion"
    }
   ],
   "dockerImageVersionId": 30664,
   "isGpuEnabled": false,
   "isInternetEnabled": true,
   "language": "python",
   "sourceType": "notebook"
  },
  "kernelspec": {
   "display_name": "Python 3",
   "language": "python",
   "name": "python3"
  },
  "language_info": {
   "codemirror_mode": {
    "name": "ipython",
    "version": 3
   },
   "file_extension": ".py",
   "mimetype": "text/x-python",
   "name": "python",
   "nbconvert_exporter": "python",
   "pygments_lexer": "ipython3",
   "version": "3.10.13"
  },
  "papermill": {
   "default_parameters": {},
   "duration": 9.132493,
   "end_time": "2024-03-11T20:03:58.438861",
   "environment_variables": {},
   "exception": null,
   "input_path": "__notebook__.ipynb",
   "output_path": "__notebook__.ipynb",
   "parameters": {},
   "start_time": "2024-03-11T20:03:49.306368",
   "version": "2.5.0"
  }
 },
 "nbformat": 4,
 "nbformat_minor": 5
}
