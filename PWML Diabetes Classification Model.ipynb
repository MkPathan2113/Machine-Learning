{
 "cells": [
  {
   "cell_type": "markdown",
   "id": "412b6391",
   "metadata": {},
   "source": [
    "# Pima Indians Diabetes Prediction Project\n",
    "\n"
   ]
  },
  {
   "cell_type": "markdown",
   "id": "d5920d37",
   "metadata": {},
   "source": [
    "## Project Description\n",
    "This project aims to build a logistic regression model to predict whether a Pima Indian woman has diabetes based on diagnostic measurements. The dataset contains medical data of Pima Indian women, a population with a high prevalence of diabetes. By analyzing this data, we aim to create a model that can accurately predict diabetes occurrence.\n",
    "\n"
   ]
  },
  {
   "cell_type": "markdown",
   "id": "b41694ff",
   "metadata": {},
   "source": [
    "## Objective\n",
    "The primary objective of this project is to develop a logistic regression model to predict the presence of diabetes in Pima Indian women based on various medical attributes. This can help in early diagnosis and treatment of diabetes, potentially improving patient outcomes and quality of life.\n",
    "\n"
   ]
  },
  {
   "cell_type": "markdown",
   "id": "c9e2767e",
   "metadata": {},
   "source": [
    "## Column Information\n",
    "\n",
    "\n",
    "- **Pregnancies**: Number of times pregnant\n",
    "    \n",
    "    \n",
    "- **Glucose**: Plasma glucose concentration (mg/dL) after 2 hours in an oral glucose tolerance test\n",
    "    \n",
    "    \n",
    "- **BloodPressure**: Diastolic blood pressure (mm Hg)\n",
    "    \n",
    "    \n",
    "- **SkinThickness**: Triceps skinfold thickness (mm)\n",
    "    \n",
    "    \n",
    "- **Insulin**: 2-hour serum insulin (mu U/ml)\n",
    "    \n",
    "    \n",
    "- **BMI**: Body mass index (weight in kg/(height in m)^2)\n",
    "    \n",
    "    \n",
    "- **DiabetesPedigreeFunction**: A function that scores likelihood of diabetes based on family history\n",
    "    \n",
    "    \n",
    "- **Age**: Age (years)\n",
    "    \n",
    "    \n",
    "- **Outcome**: Class variable (0 if non-diabetic, 1 if diabetic)\n",
    "\n"
   ]
  },
  {
   "cell_type": "markdown",
   "id": "3fcd551e",
   "metadata": {},
   "source": [
    "## Dataset Information\n",
    "The dataset consists of 768 observations with 8 features and 1 target variable (Outcome). All patients are females of at least 21 years old of Pima Indian heritage. The dataset is sourced from the UCI Machine Learning Repository.\n",
    "\n"
   ]
  },
  {
   "cell_type": "markdown",
   "id": "f2b6e0bc",
   "metadata": {},
   "source": [
    "## Importance of Diabetes Prediction\n",
    "Diabetes is a chronic disease that can lead to severe health complications such as heart disease, stroke, kidney failure, and blindness. Early detection and management are crucial in preventing these complications. Predictive models like logistic regression can help identify high-risk individuals, allowing for timely intervention and better healthcare planning.\n",
    "\n"
   ]
  },
  {
   "cell_type": "markdown",
   "id": "764e3e04",
   "metadata": {},
   "source": [
    "### Importing the libraries"
   ]
  },
  {
   "cell_type": "code",
   "execution_count": 2,
   "id": "14ac8ccd",
   "metadata": {},
   "outputs": [],
   "source": [
    "import numpy as np \n",
    "import pandas as pd \n",
    "import matplotlib.pyplot as plt \n",
    "import seaborn as sns \n",
    "from warnings import filterwarnings\n",
    "filterwarnings(\"ignore\")"
   ]
  },
  {
   "cell_type": "markdown",
   "id": "d2add617",
   "metadata": {},
   "source": [
    "### Loading the Dataset"
   ]
  },
  {
   "cell_type": "code",
   "execution_count": 3,
   "id": "f7291b77",
   "metadata": {},
   "outputs": [],
   "source": [
    "df = pd.read_csv(\"C:\\\\Users\\\\Khan Mokhit\\\\Downloads\\\\diabetes.csv\")"
   ]
  },
  {
   "cell_type": "code",
   "execution_count": 4,
   "id": "479142cd",
   "metadata": {},
   "outputs": [
    {
     "data": {
      "text/html": [
       "<div>\n",
       "<style scoped>\n",
       "    .dataframe tbody tr th:only-of-type {\n",
       "        vertical-align: middle;\n",
       "    }\n",
       "\n",
       "    .dataframe tbody tr th {\n",
       "        vertical-align: top;\n",
       "    }\n",
       "\n",
       "    .dataframe thead th {\n",
       "        text-align: right;\n",
       "    }\n",
       "</style>\n",
       "<table border=\"1\" class=\"dataframe\">\n",
       "  <thead>\n",
       "    <tr style=\"text-align: right;\">\n",
       "      <th></th>\n",
       "      <th>Pregnancies</th>\n",
       "      <th>Glucose</th>\n",
       "      <th>BloodPressure</th>\n",
       "      <th>SkinThickness</th>\n",
       "      <th>Insulin</th>\n",
       "      <th>BMI</th>\n",
       "      <th>DiabetesPedigreeFunction</th>\n",
       "      <th>Age</th>\n",
       "      <th>Outcome</th>\n",
       "    </tr>\n",
       "  </thead>\n",
       "  <tbody>\n",
       "    <tr>\n",
       "      <th>0</th>\n",
       "      <td>6</td>\n",
       "      <td>148</td>\n",
       "      <td>72</td>\n",
       "      <td>35</td>\n",
       "      <td>0</td>\n",
       "      <td>33.6</td>\n",
       "      <td>0.627</td>\n",
       "      <td>50</td>\n",
       "      <td>1</td>\n",
       "    </tr>\n",
       "    <tr>\n",
       "      <th>1</th>\n",
       "      <td>1</td>\n",
       "      <td>85</td>\n",
       "      <td>66</td>\n",
       "      <td>29</td>\n",
       "      <td>0</td>\n",
       "      <td>26.6</td>\n",
       "      <td>0.351</td>\n",
       "      <td>31</td>\n",
       "      <td>0</td>\n",
       "    </tr>\n",
       "    <tr>\n",
       "      <th>2</th>\n",
       "      <td>8</td>\n",
       "      <td>183</td>\n",
       "      <td>64</td>\n",
       "      <td>0</td>\n",
       "      <td>0</td>\n",
       "      <td>23.3</td>\n",
       "      <td>0.672</td>\n",
       "      <td>32</td>\n",
       "      <td>1</td>\n",
       "    </tr>\n",
       "    <tr>\n",
       "      <th>3</th>\n",
       "      <td>1</td>\n",
       "      <td>89</td>\n",
       "      <td>66</td>\n",
       "      <td>23</td>\n",
       "      <td>94</td>\n",
       "      <td>28.1</td>\n",
       "      <td>0.167</td>\n",
       "      <td>21</td>\n",
       "      <td>0</td>\n",
       "    </tr>\n",
       "    <tr>\n",
       "      <th>4</th>\n",
       "      <td>0</td>\n",
       "      <td>137</td>\n",
       "      <td>40</td>\n",
       "      <td>35</td>\n",
       "      <td>168</td>\n",
       "      <td>43.1</td>\n",
       "      <td>2.288</td>\n",
       "      <td>33</td>\n",
       "      <td>1</td>\n",
       "    </tr>\n",
       "  </tbody>\n",
       "</table>\n",
       "</div>"
      ],
      "text/plain": [
       "   Pregnancies  Glucose  BloodPressure  SkinThickness  Insulin   BMI  \\\n",
       "0            6      148             72             35        0  33.6   \n",
       "1            1       85             66             29        0  26.6   \n",
       "2            8      183             64              0        0  23.3   \n",
       "3            1       89             66             23       94  28.1   \n",
       "4            0      137             40             35      168  43.1   \n",
       "\n",
       "   DiabetesPedigreeFunction  Age  Outcome  \n",
       "0                     0.627   50        1  \n",
       "1                     0.351   31        0  \n",
       "2                     0.672   32        1  \n",
       "3                     0.167   21        0  \n",
       "4                     2.288   33        1  "
      ]
     },
     "execution_count": 4,
     "metadata": {},
     "output_type": "execute_result"
    }
   ],
   "source": [
    "df.head()"
   ]
  },
  {
   "cell_type": "markdown",
   "id": "42c74a25",
   "metadata": {},
   "source": [
    "### General Information of the Data set"
   ]
  },
  {
   "cell_type": "code",
   "execution_count": 5,
   "id": "8da21409",
   "metadata": {},
   "outputs": [
    {
     "name": "stdout",
     "output_type": "stream",
     "text": [
      "<class 'pandas.core.frame.DataFrame'>\n",
      "RangeIndex: 768 entries, 0 to 767\n",
      "Data columns (total 9 columns):\n",
      " #   Column                    Non-Null Count  Dtype  \n",
      "---  ------                    --------------  -----  \n",
      " 0   Pregnancies               768 non-null    int64  \n",
      " 1   Glucose                   768 non-null    int64  \n",
      " 2   BloodPressure             768 non-null    int64  \n",
      " 3   SkinThickness             768 non-null    int64  \n",
      " 4   Insulin                   768 non-null    int64  \n",
      " 5   BMI                       768 non-null    float64\n",
      " 6   DiabetesPedigreeFunction  768 non-null    float64\n",
      " 7   Age                       768 non-null    int64  \n",
      " 8   Outcome                   768 non-null    int64  \n",
      "dtypes: float64(2), int64(7)\n",
      "memory usage: 54.1 KB\n"
     ]
    }
   ],
   "source": [
    "df.info()"
   ]
  },
  {
   "cell_type": "code",
   "execution_count": 6,
   "id": "179f8d35",
   "metadata": {},
   "outputs": [
    {
     "data": {
      "text/html": [
       "<div>\n",
       "<style scoped>\n",
       "    .dataframe tbody tr th:only-of-type {\n",
       "        vertical-align: middle;\n",
       "    }\n",
       "\n",
       "    .dataframe tbody tr th {\n",
       "        vertical-align: top;\n",
       "    }\n",
       "\n",
       "    .dataframe thead th {\n",
       "        text-align: right;\n",
       "    }\n",
       "</style>\n",
       "<table border=\"1\" class=\"dataframe\">\n",
       "  <thead>\n",
       "    <tr style=\"text-align: right;\">\n",
       "      <th></th>\n",
       "      <th>Pregnancies</th>\n",
       "      <th>Glucose</th>\n",
       "      <th>BloodPressure</th>\n",
       "      <th>SkinThickness</th>\n",
       "      <th>Insulin</th>\n",
       "      <th>BMI</th>\n",
       "      <th>DiabetesPedigreeFunction</th>\n",
       "      <th>Age</th>\n",
       "      <th>Outcome</th>\n",
       "    </tr>\n",
       "  </thead>\n",
       "  <tbody>\n",
       "    <tr>\n",
       "      <th>count</th>\n",
       "      <td>768.000000</td>\n",
       "      <td>768.000000</td>\n",
       "      <td>768.000000</td>\n",
       "      <td>768.000000</td>\n",
       "      <td>768.000000</td>\n",
       "      <td>768.000000</td>\n",
       "      <td>768.000000</td>\n",
       "      <td>768.000000</td>\n",
       "      <td>768.000000</td>\n",
       "    </tr>\n",
       "    <tr>\n",
       "      <th>mean</th>\n",
       "      <td>3.845052</td>\n",
       "      <td>120.894531</td>\n",
       "      <td>69.105469</td>\n",
       "      <td>20.536458</td>\n",
       "      <td>79.799479</td>\n",
       "      <td>31.992578</td>\n",
       "      <td>0.471876</td>\n",
       "      <td>33.240885</td>\n",
       "      <td>0.348958</td>\n",
       "    </tr>\n",
       "    <tr>\n",
       "      <th>std</th>\n",
       "      <td>3.369578</td>\n",
       "      <td>31.972618</td>\n",
       "      <td>19.355807</td>\n",
       "      <td>15.952218</td>\n",
       "      <td>115.244002</td>\n",
       "      <td>7.884160</td>\n",
       "      <td>0.331329</td>\n",
       "      <td>11.760232</td>\n",
       "      <td>0.476951</td>\n",
       "    </tr>\n",
       "    <tr>\n",
       "      <th>min</th>\n",
       "      <td>0.000000</td>\n",
       "      <td>0.000000</td>\n",
       "      <td>0.000000</td>\n",
       "      <td>0.000000</td>\n",
       "      <td>0.000000</td>\n",
       "      <td>0.000000</td>\n",
       "      <td>0.078000</td>\n",
       "      <td>21.000000</td>\n",
       "      <td>0.000000</td>\n",
       "    </tr>\n",
       "    <tr>\n",
       "      <th>25%</th>\n",
       "      <td>1.000000</td>\n",
       "      <td>99.000000</td>\n",
       "      <td>62.000000</td>\n",
       "      <td>0.000000</td>\n",
       "      <td>0.000000</td>\n",
       "      <td>27.300000</td>\n",
       "      <td>0.243750</td>\n",
       "      <td>24.000000</td>\n",
       "      <td>0.000000</td>\n",
       "    </tr>\n",
       "    <tr>\n",
       "      <th>50%</th>\n",
       "      <td>3.000000</td>\n",
       "      <td>117.000000</td>\n",
       "      <td>72.000000</td>\n",
       "      <td>23.000000</td>\n",
       "      <td>30.500000</td>\n",
       "      <td>32.000000</td>\n",
       "      <td>0.372500</td>\n",
       "      <td>29.000000</td>\n",
       "      <td>0.000000</td>\n",
       "    </tr>\n",
       "    <tr>\n",
       "      <th>75%</th>\n",
       "      <td>6.000000</td>\n",
       "      <td>140.250000</td>\n",
       "      <td>80.000000</td>\n",
       "      <td>32.000000</td>\n",
       "      <td>127.250000</td>\n",
       "      <td>36.600000</td>\n",
       "      <td>0.626250</td>\n",
       "      <td>41.000000</td>\n",
       "      <td>1.000000</td>\n",
       "    </tr>\n",
       "    <tr>\n",
       "      <th>max</th>\n",
       "      <td>17.000000</td>\n",
       "      <td>199.000000</td>\n",
       "      <td>122.000000</td>\n",
       "      <td>99.000000</td>\n",
       "      <td>846.000000</td>\n",
       "      <td>67.100000</td>\n",
       "      <td>2.420000</td>\n",
       "      <td>81.000000</td>\n",
       "      <td>1.000000</td>\n",
       "    </tr>\n",
       "  </tbody>\n",
       "</table>\n",
       "</div>"
      ],
      "text/plain": [
       "       Pregnancies     Glucose  BloodPressure  SkinThickness     Insulin  \\\n",
       "count   768.000000  768.000000     768.000000     768.000000  768.000000   \n",
       "mean      3.845052  120.894531      69.105469      20.536458   79.799479   \n",
       "std       3.369578   31.972618      19.355807      15.952218  115.244002   \n",
       "min       0.000000    0.000000       0.000000       0.000000    0.000000   \n",
       "25%       1.000000   99.000000      62.000000       0.000000    0.000000   \n",
       "50%       3.000000  117.000000      72.000000      23.000000   30.500000   \n",
       "75%       6.000000  140.250000      80.000000      32.000000  127.250000   \n",
       "max      17.000000  199.000000     122.000000      99.000000  846.000000   \n",
       "\n",
       "              BMI  DiabetesPedigreeFunction         Age     Outcome  \n",
       "count  768.000000                768.000000  768.000000  768.000000  \n",
       "mean    31.992578                  0.471876   33.240885    0.348958  \n",
       "std      7.884160                  0.331329   11.760232    0.476951  \n",
       "min      0.000000                  0.078000   21.000000    0.000000  \n",
       "25%     27.300000                  0.243750   24.000000    0.000000  \n",
       "50%     32.000000                  0.372500   29.000000    0.000000  \n",
       "75%     36.600000                  0.626250   41.000000    1.000000  \n",
       "max     67.100000                  2.420000   81.000000    1.000000  "
      ]
     },
     "execution_count": 6,
     "metadata": {},
     "output_type": "execute_result"
    }
   ],
   "source": [
    "df.describe()"
   ]
  },
  {
   "cell_type": "code",
   "execution_count": 7,
   "id": "251a3c81",
   "metadata": {},
   "outputs": [
    {
     "data": {
      "text/plain": [
       "Pregnancies                   int64\n",
       "Glucose                       int64\n",
       "BloodPressure                 int64\n",
       "SkinThickness                 int64\n",
       "Insulin                       int64\n",
       "BMI                         float64\n",
       "DiabetesPedigreeFunction    float64\n",
       "Age                           int64\n",
       "Outcome                       int64\n",
       "dtype: object"
      ]
     },
     "execution_count": 7,
     "metadata": {},
     "output_type": "execute_result"
    }
   ],
   "source": [
    "df.dtypes"
   ]
  },
  {
   "cell_type": "code",
   "execution_count": 8,
   "id": "e42c2754",
   "metadata": {},
   "outputs": [
    {
     "data": {
      "text/plain": [
       "Index(['Pregnancies', 'Glucose', 'BloodPressure', 'SkinThickness', 'Insulin',\n",
       "       'BMI', 'DiabetesPedigreeFunction', 'Age', 'Outcome'],\n",
       "      dtype='object')"
      ]
     },
     "execution_count": 8,
     "metadata": {},
     "output_type": "execute_result"
    }
   ],
   "source": [
    "df.columns"
   ]
  },
  {
   "cell_type": "markdown",
   "id": "55388204",
   "metadata": {},
   "source": [
    "### Correlation"
   ]
  },
  {
   "cell_type": "code",
   "execution_count": 10,
   "id": "aba6ccdb",
   "metadata": {},
   "outputs": [
    {
     "data": {
      "text/html": [
       "<div>\n",
       "<style scoped>\n",
       "    .dataframe tbody tr th:only-of-type {\n",
       "        vertical-align: middle;\n",
       "    }\n",
       "\n",
       "    .dataframe tbody tr th {\n",
       "        vertical-align: top;\n",
       "    }\n",
       "\n",
       "    .dataframe thead th {\n",
       "        text-align: right;\n",
       "    }\n",
       "</style>\n",
       "<table border=\"1\" class=\"dataframe\">\n",
       "  <thead>\n",
       "    <tr style=\"text-align: right;\">\n",
       "      <th></th>\n",
       "      <th>Pregnancies</th>\n",
       "      <th>Glucose</th>\n",
       "      <th>BloodPressure</th>\n",
       "      <th>SkinThickness</th>\n",
       "      <th>Insulin</th>\n",
       "      <th>BMI</th>\n",
       "      <th>DiabetesPedigreeFunction</th>\n",
       "      <th>Age</th>\n",
       "      <th>Outcome</th>\n",
       "    </tr>\n",
       "  </thead>\n",
       "  <tbody>\n",
       "    <tr>\n",
       "      <th>Pregnancies</th>\n",
       "      <td>1.000000</td>\n",
       "      <td>0.129459</td>\n",
       "      <td>0.141282</td>\n",
       "      <td>-0.081672</td>\n",
       "      <td>-0.073535</td>\n",
       "      <td>0.017683</td>\n",
       "      <td>-0.033523</td>\n",
       "      <td>0.544341</td>\n",
       "      <td>0.221898</td>\n",
       "    </tr>\n",
       "    <tr>\n",
       "      <th>Glucose</th>\n",
       "      <td>0.129459</td>\n",
       "      <td>1.000000</td>\n",
       "      <td>0.152590</td>\n",
       "      <td>0.057328</td>\n",
       "      <td>0.331357</td>\n",
       "      <td>0.221071</td>\n",
       "      <td>0.137337</td>\n",
       "      <td>0.263514</td>\n",
       "      <td>0.466581</td>\n",
       "    </tr>\n",
       "    <tr>\n",
       "      <th>BloodPressure</th>\n",
       "      <td>0.141282</td>\n",
       "      <td>0.152590</td>\n",
       "      <td>1.000000</td>\n",
       "      <td>0.207371</td>\n",
       "      <td>0.088933</td>\n",
       "      <td>0.281805</td>\n",
       "      <td>0.041265</td>\n",
       "      <td>0.239528</td>\n",
       "      <td>0.065068</td>\n",
       "    </tr>\n",
       "    <tr>\n",
       "      <th>SkinThickness</th>\n",
       "      <td>-0.081672</td>\n",
       "      <td>0.057328</td>\n",
       "      <td>0.207371</td>\n",
       "      <td>1.000000</td>\n",
       "      <td>0.436783</td>\n",
       "      <td>0.392573</td>\n",
       "      <td>0.183928</td>\n",
       "      <td>-0.113970</td>\n",
       "      <td>0.074752</td>\n",
       "    </tr>\n",
       "    <tr>\n",
       "      <th>Insulin</th>\n",
       "      <td>-0.073535</td>\n",
       "      <td>0.331357</td>\n",
       "      <td>0.088933</td>\n",
       "      <td>0.436783</td>\n",
       "      <td>1.000000</td>\n",
       "      <td>0.197859</td>\n",
       "      <td>0.185071</td>\n",
       "      <td>-0.042163</td>\n",
       "      <td>0.130548</td>\n",
       "    </tr>\n",
       "    <tr>\n",
       "      <th>BMI</th>\n",
       "      <td>0.017683</td>\n",
       "      <td>0.221071</td>\n",
       "      <td>0.281805</td>\n",
       "      <td>0.392573</td>\n",
       "      <td>0.197859</td>\n",
       "      <td>1.000000</td>\n",
       "      <td>0.140647</td>\n",
       "      <td>0.036242</td>\n",
       "      <td>0.292695</td>\n",
       "    </tr>\n",
       "    <tr>\n",
       "      <th>DiabetesPedigreeFunction</th>\n",
       "      <td>-0.033523</td>\n",
       "      <td>0.137337</td>\n",
       "      <td>0.041265</td>\n",
       "      <td>0.183928</td>\n",
       "      <td>0.185071</td>\n",
       "      <td>0.140647</td>\n",
       "      <td>1.000000</td>\n",
       "      <td>0.033561</td>\n",
       "      <td>0.173844</td>\n",
       "    </tr>\n",
       "    <tr>\n",
       "      <th>Age</th>\n",
       "      <td>0.544341</td>\n",
       "      <td>0.263514</td>\n",
       "      <td>0.239528</td>\n",
       "      <td>-0.113970</td>\n",
       "      <td>-0.042163</td>\n",
       "      <td>0.036242</td>\n",
       "      <td>0.033561</td>\n",
       "      <td>1.000000</td>\n",
       "      <td>0.238356</td>\n",
       "    </tr>\n",
       "    <tr>\n",
       "      <th>Outcome</th>\n",
       "      <td>0.221898</td>\n",
       "      <td>0.466581</td>\n",
       "      <td>0.065068</td>\n",
       "      <td>0.074752</td>\n",
       "      <td>0.130548</td>\n",
       "      <td>0.292695</td>\n",
       "      <td>0.173844</td>\n",
       "      <td>0.238356</td>\n",
       "      <td>1.000000</td>\n",
       "    </tr>\n",
       "  </tbody>\n",
       "</table>\n",
       "</div>"
      ],
      "text/plain": [
       "                          Pregnancies   Glucose  BloodPressure  SkinThickness  \\\n",
       "Pregnancies                  1.000000  0.129459       0.141282      -0.081672   \n",
       "Glucose                      0.129459  1.000000       0.152590       0.057328   \n",
       "BloodPressure                0.141282  0.152590       1.000000       0.207371   \n",
       "SkinThickness               -0.081672  0.057328       0.207371       1.000000   \n",
       "Insulin                     -0.073535  0.331357       0.088933       0.436783   \n",
       "BMI                          0.017683  0.221071       0.281805       0.392573   \n",
       "DiabetesPedigreeFunction    -0.033523  0.137337       0.041265       0.183928   \n",
       "Age                          0.544341  0.263514       0.239528      -0.113970   \n",
       "Outcome                      0.221898  0.466581       0.065068       0.074752   \n",
       "\n",
       "                           Insulin       BMI  DiabetesPedigreeFunction  \\\n",
       "Pregnancies              -0.073535  0.017683                 -0.033523   \n",
       "Glucose                   0.331357  0.221071                  0.137337   \n",
       "BloodPressure             0.088933  0.281805                  0.041265   \n",
       "SkinThickness             0.436783  0.392573                  0.183928   \n",
       "Insulin                   1.000000  0.197859                  0.185071   \n",
       "BMI                       0.197859  1.000000                  0.140647   \n",
       "DiabetesPedigreeFunction  0.185071  0.140647                  1.000000   \n",
       "Age                      -0.042163  0.036242                  0.033561   \n",
       "Outcome                   0.130548  0.292695                  0.173844   \n",
       "\n",
       "                               Age   Outcome  \n",
       "Pregnancies               0.544341  0.221898  \n",
       "Glucose                   0.263514  0.466581  \n",
       "BloodPressure             0.239528  0.065068  \n",
       "SkinThickness            -0.113970  0.074752  \n",
       "Insulin                  -0.042163  0.130548  \n",
       "BMI                       0.036242  0.292695  \n",
       "DiabetesPedigreeFunction  0.033561  0.173844  \n",
       "Age                       1.000000  0.238356  \n",
       "Outcome                   0.238356  1.000000  "
      ]
     },
     "execution_count": 10,
     "metadata": {},
     "output_type": "execute_result"
    }
   ],
   "source": [
    "df.corr()"
   ]
  },
  {
   "cell_type": "markdown",
   "id": "81d25300",
   "metadata": {},
   "source": [
    "### Heatmap for better understanding of the correlation of the data "
   ]
  },
  {
   "cell_type": "code",
   "execution_count": 14,
   "id": "3d9538dd",
   "metadata": {},
   "outputs": [
    {
     "data": {
      "image/png": "[encoded data removed]",
      "text/plain": [
       "<Figure size 1200x700 with 2 Axes>"
      ]
     },
     "metadata": {},
     "output_type": "display_data"
    }
   ],
   "source": [
    "plt.figure(figsize=(12,7))\n",
    "sns.heatmap(df.corr(),annot=True)\n",
    "plt.title(\"THE CORR OF THE DATA\" , size=20)\n",
    "plt.show()"
   ]
  },
  {
   "cell_type": "markdown",
   "id": "ceb3c4a7",
   "metadata": {},
   "source": [
    "### Checking for the Null values and the Duplicate values"
   ]
  },
  {
   "cell_type": "code",
   "execution_count": 16,
   "id": "7d39e68c",
   "metadata": {},
   "outputs": [
    {
     "data": {
      "text/plain": [
       "Pregnancies                 0\n",
       "Glucose                     0\n",
       "BloodPressure               0\n",
       "SkinThickness               0\n",
       "Insulin                     0\n",
       "BMI                         0\n",
       "DiabetesPedigreeFunction    0\n",
       "Age                         0\n",
       "Outcome                     0\n",
       "dtype: int64"
      ]
     },
     "execution_count": 16,
     "metadata": {},
     "output_type": "execute_result"
    }
   ],
   "source": [
    "df.isna().sum()"
   ]
  },
  {
   "cell_type": "code",
   "execution_count": 18,
   "id": "3c8e1e2e",
   "metadata": {},
   "outputs": [
    {
     "data": {
      "text/html": [
       "<div>\n",
       "<style scoped>\n",
       "    .dataframe tbody tr th:only-of-type {\n",
       "        vertical-align: middle;\n",
       "    }\n",
       "\n",
       "    .dataframe tbody tr th {\n",
       "        vertical-align: top;\n",
       "    }\n",
       "\n",
       "    .dataframe thead th {\n",
       "        text-align: right;\n",
       "    }\n",
       "</style>\n",
       "<table border=\"1\" class=\"dataframe\">\n",
       "  <thead>\n",
       "    <tr style=\"text-align: right;\">\n",
       "      <th></th>\n",
       "      <th>Pregnancies</th>\n",
       "      <th>Glucose</th>\n",
       "      <th>BloodPressure</th>\n",
       "      <th>SkinThickness</th>\n",
       "      <th>Insulin</th>\n",
       "      <th>BMI</th>\n",
       "      <th>DiabetesPedigreeFunction</th>\n",
       "      <th>Age</th>\n",
       "      <th>Outcome</th>\n",
       "    </tr>\n",
       "  </thead>\n",
       "  <tbody>\n",
       "  </tbody>\n",
       "</table>\n",
       "</div>"
      ],
      "text/plain": [
       "Empty DataFrame\n",
       "Columns: [Pregnancies, Glucose, BloodPressure, SkinThickness, Insulin, BMI, DiabetesPedigreeFunction, Age, Outcome]\n",
       "Index: []"
      ]
     },
     "execution_count": 18,
     "metadata": {},
     "output_type": "execute_result"
    }
   ],
   "source": [
    "df[df.duplicated()]"
   ]
  },
  {
   "cell_type": "markdown",
   "id": "8ad850da",
   "metadata": {},
   "source": [
    "* We can see that there are no duplicate values or null values present in the data."
   ]
  },
  {
   "cell_type": "markdown",
   "id": "6540bf40",
   "metadata": {},
   "source": [
    "### Distribution of all of the Features of the data"
   ]
  },
  {
   "cell_type": "code",
   "execution_count": 29,
   "id": "d3e1dfa1",
   "metadata": {},
   "outputs": [
    {
     "data": {
      "image/png": "[encoded data removed]",
      "text/plain": [
       "<Figure size 2000x1500 with 9 Axes>"
      ]
     },
     "metadata": {},
     "output_type": "display_data"
    }
   ],
   "source": [
    "df.hist(bins=30,ec='black',color='lightgreen',figsize=(20,15))\n",
    "plt.show()"
   ]
  },
  {
   "cell_type": "markdown",
   "id": "6b200b2b",
   "metadata": {},
   "source": [
    "### Process of Training the Model "
   ]
  },
  {
   "cell_type": "code",
   "execution_count": 30,
   "id": "6cb1fb74",
   "metadata": {},
   "outputs": [],
   "source": [
    "from warnings import filterwarnings \n",
    "filterwarnings(\"ignore\")"
   ]
  },
  {
   "cell_type": "markdown",
   "id": "ba4b5c36",
   "metadata": {},
   "source": [
    "### Deviding the data into dependent and independent variable "
   ]
  },
  {
   "cell_type": "code",
   "execution_count": 31,
   "id": "5dadba60",
   "metadata": {},
   "outputs": [],
   "source": [
    "x = df.iloc[:,:-1]\n",
    "y = df.iloc[:,-1]"
   ]
  },
  {
   "cell_type": "markdown",
   "id": "3c2e55e7",
   "metadata": {},
   "source": [
    "### Independent Variables"
   ]
  },
  {
   "cell_type": "code",
   "execution_count": 32,
   "id": "61c1ab3a",
   "metadata": {},
   "outputs": [
    {
     "data": {
      "text/html": [
       "<div>\n",
       "<style scoped>\n",
       "    .dataframe tbody tr th:only-of-type {\n",
       "        vertical-align: middle;\n",
       "    }\n",
       "\n",
       "    .dataframe tbody tr th {\n",
       "        vertical-align: top;\n",
       "    }\n",
       "\n",
       "    .dataframe thead th {\n",
       "        text-align: right;\n",
       "    }\n",
       "</style>\n",
       "<table border=\"1\" class=\"dataframe\">\n",
       "  <thead>\n",
       "    <tr style=\"text-align: right;\">\n",
       "      <th></th>\n",
       "      <th>Pregnancies</th>\n",
       "      <th>Glucose</th>\n",
       "      <th>BloodPressure</th>\n",
       "      <th>SkinThickness</th>\n",
       "      <th>Insulin</th>\n",
       "      <th>BMI</th>\n",
       "      <th>DiabetesPedigreeFunction</th>\n",
       "      <th>Age</th>\n",
       "    </tr>\n",
       "  </thead>\n",
       "  <tbody>\n",
       "    <tr>\n",
       "      <th>0</th>\n",
       "      <td>6</td>\n",
       "      <td>148</td>\n",
       "      <td>72</td>\n",
       "      <td>35</td>\n",
       "      <td>0</td>\n",
       "      <td>33.6</td>\n",
       "      <td>0.627</td>\n",
       "      <td>50</td>\n",
       "    </tr>\n",
       "    <tr>\n",
       "      <th>1</th>\n",
       "      <td>1</td>\n",
       "      <td>85</td>\n",
       "      <td>66</td>\n",
       "      <td>29</td>\n",
       "      <td>0</td>\n",
       "      <td>26.6</td>\n",
       "      <td>0.351</td>\n",
       "      <td>31</td>\n",
       "    </tr>\n",
       "    <tr>\n",
       "      <th>2</th>\n",
       "      <td>8</td>\n",
       "      <td>183</td>\n",
       "      <td>64</td>\n",
       "      <td>0</td>\n",
       "      <td>0</td>\n",
       "      <td>23.3</td>\n",
       "      <td>0.672</td>\n",
       "      <td>32</td>\n",
       "    </tr>\n",
       "    <tr>\n",
       "      <th>3</th>\n",
       "      <td>1</td>\n",
       "      <td>89</td>\n",
       "      <td>66</td>\n",
       "      <td>23</td>\n",
       "      <td>94</td>\n",
       "      <td>28.1</td>\n",
       "      <td>0.167</td>\n",
       "      <td>21</td>\n",
       "    </tr>\n",
       "    <tr>\n",
       "      <th>4</th>\n",
       "      <td>0</td>\n",
       "      <td>137</td>\n",
       "      <td>40</td>\n",
       "      <td>35</td>\n",
       "      <td>168</td>\n",
       "      <td>43.1</td>\n",
       "      <td>2.288</td>\n",
       "      <td>33</td>\n",
       "    </tr>\n",
       "    <tr>\n",
       "      <th>...</th>\n",
       "      <td>...</td>\n",
       "      <td>...</td>\n",
       "      <td>...</td>\n",
       "      <td>...</td>\n",
       "      <td>...</td>\n",
       "      <td>...</td>\n",
       "      <td>...</td>\n",
       "      <td>...</td>\n",
       "    </tr>\n",
       "    <tr>\n",
       "      <th>763</th>\n",
       "      <td>10</td>\n",
       "      <td>101</td>\n",
       "      <td>76</td>\n",
       "      <td>48</td>\n",
       "      <td>180</td>\n",
       "      <td>32.9</td>\n",
       "      <td>0.171</td>\n",
       "      <td>63</td>\n",
       "    </tr>\n",
       "    <tr>\n",
       "      <th>764</th>\n",
       "      <td>2</td>\n",
       "      <td>122</td>\n",
       "      <td>70</td>\n",
       "      <td>27</td>\n",
       "      <td>0</td>\n",
       "      <td>36.8</td>\n",
       "      <td>0.340</td>\n",
       "      <td>27</td>\n",
       "    </tr>\n",
       "    <tr>\n",
       "      <th>765</th>\n",
       "      <td>5</td>\n",
       "      <td>121</td>\n",
       "      <td>72</td>\n",
       "      <td>23</td>\n",
       "      <td>112</td>\n",
       "      <td>26.2</td>\n",
       "      <td>0.245</td>\n",
       "      <td>30</td>\n",
       "    </tr>\n",
       "    <tr>\n",
       "      <th>766</th>\n",
       "      <td>1</td>\n",
       "      <td>126</td>\n",
       "      <td>60</td>\n",
       "      <td>0</td>\n",
       "      <td>0</td>\n",
       "      <td>30.1</td>\n",
       "      <td>0.349</td>\n",
       "      <td>47</td>\n",
       "    </tr>\n",
       "    <tr>\n",
       "      <th>767</th>\n",
       "      <td>1</td>\n",
       "      <td>93</td>\n",
       "      <td>70</td>\n",
       "      <td>31</td>\n",
       "      <td>0</td>\n",
       "      <td>30.4</td>\n",
       "      <td>0.315</td>\n",
       "      <td>23</td>\n",
       "    </tr>\n",
       "  </tbody>\n",
       "</table>\n",
       "<p>768 rows × 8 columns</p>\n",
       "</div>"
      ],
      "text/plain": [
       "     Pregnancies  Glucose  BloodPressure  SkinThickness  Insulin   BMI  \\\n",
       "0              6      148             72             35        0  33.6   \n",
       "1              1       85             66             29        0  26.6   \n",
       "2              8      183             64              0        0  23.3   \n",
       "3              1       89             66             23       94  28.1   \n",
       "4              0      137             40             35      168  43.1   \n",
       "..           ...      ...            ...            ...      ...   ...   \n",
       "763           10      101             76             48      180  32.9   \n",
       "764            2      122             70             27        0  36.8   \n",
       "765            5      121             72             23      112  26.2   \n",
       "766            1      126             60              0        0  30.1   \n",
       "767            1       93             70             31        0  30.4   \n",
       "\n",
       "     DiabetesPedigreeFunction  Age  \n",
       "0                       0.627   50  \n",
       "1                       0.351   31  \n",
       "2                       0.672   32  \n",
       "3                       0.167   21  \n",
       "4                       2.288   33  \n",
       "..                        ...  ...  \n",
       "763                     0.171   63  \n",
       "764                     0.340   27  \n",
       "765                     0.245   30  \n",
       "766                     0.349   47  \n",
       "767                     0.315   23  \n",
       "\n",
       "[768 rows x 8 columns]"
      ]
     },
     "execution_count": 32,
     "metadata": {},
     "output_type": "execute_result"
    }
   ],
   "source": [
    "x"
   ]
  },
  {
   "cell_type": "markdown",
   "id": "697c204b",
   "metadata": {},
   "source": [
    "### Dependent Variable"
   ]
  },
  {
   "cell_type": "code",
   "execution_count": 33,
   "id": "527dc354",
   "metadata": {},
   "outputs": [
    {
     "data": {
      "text/plain": [
       "0      1\n",
       "1      0\n",
       "2      1\n",
       "3      0\n",
       "4      1\n",
       "      ..\n",
       "763    0\n",
       "764    0\n",
       "765    0\n",
       "766    1\n",
       "767    0\n",
       "Name: Outcome, Length: 768, dtype: int64"
      ]
     },
     "execution_count": 33,
     "metadata": {},
     "output_type": "execute_result"
    }
   ],
   "source": [
    "y"
   ]
  },
  {
   "cell_type": "markdown",
   "id": "3830e373",
   "metadata": {},
   "source": [
    "### Deviding the data into Training and Testing sets"
   ]
  },
  {
   "cell_type": "code",
   "execution_count": 36,
   "id": "fdf94d70",
   "metadata": {},
   "outputs": [],
   "source": [
    "from sklearn.model_selection import train_test_split"
   ]
  },
  {
   "cell_type": "code",
   "execution_count": 34,
   "id": "9b6b191f",
   "metadata": {},
   "outputs": [],
   "source": [
    "x_train , x_test , y_train , y_test = train_test_split(x , y , test_size=0.3 , random_state=30)"
   ]
  },
  {
   "cell_type": "code",
   "execution_count": 35,
   "id": "68f63991",
   "metadata": {},
   "outputs": [
    {
     "data": {
      "text/plain": [
       "((537, 8), (231, 8), (537,), (231,))"
      ]
     },
     "execution_count": 35,
     "metadata": {},
     "output_type": "execute_result"
    }
   ],
   "source": [
    "x_train.shape , x_test.shape , y_train.shape , y_test.shape"
   ]
  },
  {
   "cell_type": "markdown",
   "id": "ba47e1cf",
   "metadata": {},
   "source": [
    "### Training the Model"
   ]
  },
  {
   "cell_type": "code",
   "execution_count": 37,
   "id": "ac386d1c",
   "metadata": {},
   "outputs": [],
   "source": [
    "from sklearn.linear_model import LogisticRegression"
   ]
  },
  {
   "cell_type": "code",
   "execution_count": 38,
   "id": "28bf6acc",
   "metadata": {},
   "outputs": [],
   "source": [
    "classifier = LogisticRegression()"
   ]
  },
  {
   "cell_type": "code",
   "execution_count": 39,
   "id": "20862eaa",
   "metadata": {},
   "outputs": [
    {
     "data": {
      "text/plain": [
       "LogisticRegression()"
      ]
     },
     "execution_count": 39,
     "metadata": {},
     "output_type": "execute_result"
    }
   ],
   "source": [
    "classifier.fit(x_train,y_train)"
   ]
  },
  {
   "cell_type": "markdown",
   "id": "dbcd3539",
   "metadata": {},
   "source": [
    "### Prediction"
   ]
  },
  {
   "cell_type": "code",
   "execution_count": 42,
   "id": "71bbde8f",
   "metadata": {},
   "outputs": [
    {
     "data": {
      "text/plain": [
       "array([[0.88044069, 0.11955931],\n",
       "       [0.85419425, 0.14580575],\n",
       "       [0.85230025, 0.14769975],\n",
       "       [0.36935683, 0.63064317],\n",
       "       [0.83768642, 0.16231358],\n",
       "       [0.94785695, 0.05214305],\n",
       "       [0.29015761, 0.70984239],\n",
       "       [0.72310716, 0.27689284],\n",
       "       [0.65662872, 0.34337128],\n",
       "       [0.95172102, 0.04827898],\n",
       "       [0.88942901, 0.11057099],\n",
       "       [0.81638859, 0.18361141],\n",
       "       [0.87074912, 0.12925088],\n",
       "       [0.79417153, 0.20582847],\n",
       "       [0.91056087, 0.08943913],\n",
       "       [0.91359943, 0.08640057],\n",
       "       [0.76691669, 0.23308331],\n",
       "       [0.75795029, 0.24204971],\n",
       "       [0.19503911, 0.80496089],\n",
       "       [0.85355934, 0.14644066],\n",
       "       [0.52950856, 0.47049144],\n",
       "       [0.12726388, 0.87273612],\n",
       "       [0.47262392, 0.52737608],\n",
       "       [0.63092233, 0.36907767],\n",
       "       [0.02986788, 0.97013212],\n",
       "       [0.56463117, 0.43536883],\n",
       "       [0.90945424, 0.09054576],\n",
       "       [0.95198234, 0.04801766],\n",
       "       [0.95085448, 0.04914552],\n",
       "       [0.61032721, 0.38967279],\n",
       "       [0.75630275, 0.24369725],\n",
       "       [0.63648709, 0.36351291],\n",
       "       [0.49120641, 0.50879359],\n",
       "       [0.33031133, 0.66968867],\n",
       "       [0.97489954, 0.02510046],\n",
       "       [0.86475733, 0.13524267],\n",
       "       [0.78059808, 0.21940192],\n",
       "       [0.16021254, 0.83978746],\n",
       "       [0.23433458, 0.76566542],\n",
       "       [0.89653929, 0.10346071],\n",
       "       [0.88480881, 0.11519119],\n",
       "       [0.38614711, 0.61385289],\n",
       "       [0.90540621, 0.09459379],\n",
       "       [0.57817534, 0.42182466],\n",
       "       [0.31267858, 0.68732142],\n",
       "       [0.14042334, 0.85957666],\n",
       "       [0.34635009, 0.65364991],\n",
       "       [0.2026247 , 0.7973753 ],\n",
       "       [0.94565448, 0.05434552],\n",
       "       [0.95808221, 0.04191779],\n",
       "       [0.95161575, 0.04838425],\n",
       "       [0.70340712, 0.29659288],\n",
       "       [0.69338162, 0.30661838],\n",
       "       [0.18682334, 0.81317666],\n",
       "       [0.62163266, 0.37836734],\n",
       "       [0.4693969 , 0.5306031 ],\n",
       "       [0.45674112, 0.54325888],\n",
       "       [0.83022593, 0.16977407],\n",
       "       [0.85865914, 0.14134086],\n",
       "       [0.9526221 , 0.0473779 ],\n",
       "       [0.85420432, 0.14579568],\n",
       "       [0.91496526, 0.08503474],\n",
       "       [0.32174405, 0.67825595],\n",
       "       [0.70739886, 0.29260114],\n",
       "       [0.68983891, 0.31016109],\n",
       "       [0.79533618, 0.20466382],\n",
       "       [0.10960388, 0.89039612],\n",
       "       [0.18674667, 0.81325333],\n",
       "       [0.40338282, 0.59661718],\n",
       "       [0.94065494, 0.05934506],\n",
       "       [0.63538455, 0.36461545],\n",
       "       [0.22324574, 0.77675426],\n",
       "       [0.74419489, 0.25580511],\n",
       "       [0.53494379, 0.46505621],\n",
       "       [0.77881645, 0.22118355],\n",
       "       [0.26709751, 0.73290249],\n",
       "       [0.90979124, 0.09020876],\n",
       "       [0.260074  , 0.739926  ],\n",
       "       [0.34418378, 0.65581622],\n",
       "       [0.71440201, 0.28559799],\n",
       "       [0.91585961, 0.08414039],\n",
       "       [0.66454823, 0.33545177],\n",
       "       [0.8147488 , 0.1852512 ],\n",
       "       [0.5159885 , 0.4840115 ],\n",
       "       [0.65093031, 0.34906969],\n",
       "       [0.39928006, 0.60071994],\n",
       "       [0.93898199, 0.06101801],\n",
       "       [0.91141729, 0.08858271],\n",
       "       [0.76089148, 0.23910852],\n",
       "       [0.69583242, 0.30416758],\n",
       "       [0.78768395, 0.21231605],\n",
       "       [0.85555781, 0.14444219],\n",
       "       [0.77434316, 0.22565684],\n",
       "       [0.88643509, 0.11356491],\n",
       "       [0.48028126, 0.51971874],\n",
       "       [0.9728357 , 0.0271643 ],\n",
       "       [0.82394533, 0.17605467],\n",
       "       [0.69656865, 0.30343135],\n",
       "       [0.34270563, 0.65729437],\n",
       "       [0.31693179, 0.68306821],\n",
       "       [0.80218594, 0.19781406],\n",
       "       [0.8220063 , 0.1779937 ],\n",
       "       [0.06622679, 0.93377321],\n",
       "       [0.29639788, 0.70360212],\n",
       "       [0.1586898 , 0.8413102 ],\n",
       "       [0.74835061, 0.25164939],\n",
       "       [0.59810286, 0.40189714],\n",
       "       [0.98268649, 0.01731351],\n",
       "       [0.85697966, 0.14302034],\n",
       "       [0.798742  , 0.201258  ],\n",
       "       [0.42257713, 0.57742287],\n",
       "       [0.51413016, 0.48586984],\n",
       "       [0.79642602, 0.20357398],\n",
       "       [0.59791145, 0.40208855],\n",
       "       [0.75490659, 0.24509341],\n",
       "       [0.81210566, 0.18789434],\n",
       "       [0.54746174, 0.45253826],\n",
       "       [0.25602699, 0.74397301],\n",
       "       [0.79053521, 0.20946479],\n",
       "       [0.47701525, 0.52298475],\n",
       "       [0.69159429, 0.30840571],\n",
       "       [0.34514864, 0.65485136],\n",
       "       [0.69474886, 0.30525114],\n",
       "       [0.86198078, 0.13801922],\n",
       "       [0.4560322 , 0.5439678 ],\n",
       "       [0.95851593, 0.04148407],\n",
       "       [0.97961037, 0.02038963],\n",
       "       [0.88536919, 0.11463081],\n",
       "       [0.93909812, 0.06090188],\n",
       "       [0.86604707, 0.13395293],\n",
       "       [0.92202971, 0.07797029],\n",
       "       [0.23000102, 0.76999898],\n",
       "       [0.85491828, 0.14508172],\n",
       "       [0.24604344, 0.75395656],\n",
       "       [0.18116729, 0.81883271],\n",
       "       [0.82621321, 0.17378679],\n",
       "       [0.32518705, 0.67481295],\n",
       "       [0.96452118, 0.03547882],\n",
       "       [0.66018823, 0.33981177],\n",
       "       [0.94379261, 0.05620739],\n",
       "       [0.39621603, 0.60378397],\n",
       "       [0.91860883, 0.08139117],\n",
       "       [0.91187819, 0.08812181],\n",
       "       [0.79118821, 0.20881179],\n",
       "       [0.7417076 , 0.2582924 ],\n",
       "       [0.66445073, 0.33554927],\n",
       "       [0.18044362, 0.81955638],\n",
       "       [0.6364035 , 0.3635965 ],\n",
       "       [0.72394566, 0.27605434],\n",
       "       [0.05515004, 0.94484996],\n",
       "       [0.61882171, 0.38117829],\n",
       "       [0.62633162, 0.37366838],\n",
       "       [0.3093851 , 0.6906149 ],\n",
       "       [0.98095422, 0.01904578],\n",
       "       [0.94013767, 0.05986233],\n",
       "       [0.79135134, 0.20864866],\n",
       "       [0.5527443 , 0.4472557 ],\n",
       "       [0.53389778, 0.46610222],\n",
       "       [0.71878032, 0.28121968],\n",
       "       [0.74162397, 0.25837603],\n",
       "       [0.94351897, 0.05648103],\n",
       "       [0.63270743, 0.36729257],\n",
       "       [0.80093397, 0.19906603],\n",
       "       [0.98305242, 0.01694758],\n",
       "       [0.04008717, 0.95991283],\n",
       "       [0.90517569, 0.09482431],\n",
       "       [0.77453217, 0.22546783],\n",
       "       [0.81558354, 0.18441646],\n",
       "       [0.72063115, 0.27936885],\n",
       "       [0.8959011 , 0.1040989 ],\n",
       "       [0.52076816, 0.47923184],\n",
       "       [0.70502701, 0.29497299],\n",
       "       [0.13615228, 0.86384772],\n",
       "       [0.44193564, 0.55806436],\n",
       "       [0.68599529, 0.31400471],\n",
       "       [0.85092938, 0.14907062],\n",
       "       [0.74078264, 0.25921736],\n",
       "       [0.28955162, 0.71044838],\n",
       "       [0.2326735 , 0.7673265 ],\n",
       "       [0.31457825, 0.68542175],\n",
       "       [0.13748242, 0.86251758],\n",
       "       [0.63994542, 0.36005458],\n",
       "       [0.75759189, 0.24240811],\n",
       "       [0.75847434, 0.24152566],\n",
       "       [0.04359081, 0.95640919],\n",
       "       [0.87498215, 0.12501785],\n",
       "       [0.94681047, 0.05318953],\n",
       "       [0.87992289, 0.12007711],\n",
       "       [0.90623294, 0.09376706],\n",
       "       [0.7576384 , 0.2423616 ],\n",
       "       [0.67024401, 0.32975599],\n",
       "       [0.23802355, 0.76197645],\n",
       "       [0.59036997, 0.40963003],\n",
       "       [0.85396934, 0.14603066],\n",
       "       [0.32477112, 0.67522888],\n",
       "       [0.11822796, 0.88177204],\n",
       "       [0.95154093, 0.04845907],\n",
       "       [0.06003011, 0.93996989],\n",
       "       [0.85383476, 0.14616524],\n",
       "       [0.59673941, 0.40326059],\n",
       "       [0.68423546, 0.31576454],\n",
       "       [0.2961712 , 0.7038288 ],\n",
       "       [0.29990928, 0.70009072],\n",
       "       [0.9206166 , 0.0793834 ],\n",
       "       [0.63779644, 0.36220356],\n",
       "       [0.9368994 , 0.0631006 ],\n",
       "       [0.71251337, 0.28748663],\n",
       "       [0.93522892, 0.06477108],\n",
       "       [0.43806378, 0.56193622],\n",
       "       [0.87754492, 0.12245508],\n",
       "       [0.82202307, 0.17797693],\n",
       "       [0.94626442, 0.05373558],\n",
       "       [0.07921157, 0.92078843],\n",
       "       [0.88046663, 0.11953337],\n",
       "       [0.55223405, 0.44776595],\n",
       "       [0.81279634, 0.18720366],\n",
       "       [0.63597433, 0.36402567],\n",
       "       [0.95198972, 0.04801028],\n",
       "       [0.02896752, 0.97103248],\n",
       "       [0.64473836, 0.35526164],\n",
       "       [0.70301616, 0.29698384],\n",
       "       [0.90222702, 0.09777298],\n",
       "       [0.59004963, 0.40995037],\n",
       "       [0.87247255, 0.12752745],\n",
       "       [0.55061281, 0.44938719],\n",
       "       [0.75562481, 0.24437519],\n",
       "       [0.34981413, 0.65018587],\n",
       "       [0.50412058, 0.49587942],\n",
       "       [0.95392822, 0.04607178],\n",
       "       [0.41760172, 0.58239828],\n",
       "       [0.94504402, 0.05495598]])"
      ]
     },
     "execution_count": 42,
     "metadata": {},
     "output_type": "execute_result"
    }
   ],
   "source": [
    "# This method will provide probability for each value for every outcome\n",
    "\n",
    "classifier.predict_proba(x_test)"
   ]
  },
  {
   "cell_type": "code",
   "execution_count": 43,
   "id": "3a0b5467",
   "metadata": {},
   "outputs": [],
   "source": [
    "y_pred = classifier.predict(x_test)"
   ]
  },
  {
   "cell_type": "code",
   "execution_count": 44,
   "id": "663fbe50",
   "metadata": {},
   "outputs": [
    {
     "data": {
      "text/plain": [
       "array([0, 0, 0, 1, 0, 0, 1, 0, 0, 0, 0, 0, 0, 0, 0, 0, 0, 0, 1, 0, 0, 1,\n",
       "       1, 0, 1, 0, 0, 0, 0, 0, 0, 0, 1, 1, 0, 0, 0, 1, 1, 0, 0, 1, 0, 0,\n",
       "       1, 1, 1, 1, 0, 0, 0, 0, 0, 1, 0, 1, 1, 0, 0, 0, 0, 0, 1, 0, 0, 0,\n",
       "       1, 1, 1, 0, 0, 1, 0, 0, 0, 1, 0, 1, 1, 0, 0, 0, 0, 0, 0, 1, 0, 0,\n",
       "       0, 0, 0, 0, 0, 0, 1, 0, 0, 0, 1, 1, 0, 0, 1, 1, 1, 0, 0, 0, 0, 0,\n",
       "       1, 0, 0, 0, 0, 0, 0, 1, 0, 1, 0, 1, 0, 0, 1, 0, 0, 0, 0, 0, 0, 1,\n",
       "       0, 1, 1, 0, 1, 0, 0, 0, 1, 0, 0, 0, 0, 0, 1, 0, 0, 1, 0, 0, 1, 0,\n",
       "       0, 0, 0, 0, 0, 0, 0, 0, 0, 0, 1, 0, 0, 0, 0, 0, 0, 0, 1, 1, 0, 0,\n",
       "       0, 1, 1, 1, 1, 0, 0, 0, 1, 0, 0, 0, 0, 0, 0, 1, 0, 0, 1, 1, 0, 1,\n",
       "       0, 0, 0, 1, 1, 0, 0, 0, 0, 0, 1, 0, 0, 0, 1, 0, 0, 0, 0, 0, 1, 0,\n",
       "       0, 0, 0, 0, 0, 0, 1, 0, 0, 1, 0], dtype=int64)"
      ]
     },
     "execution_count": 44,
     "metadata": {},
     "output_type": "execute_result"
    }
   ],
   "source": [
    "y_pred"
   ]
  },
  {
   "cell_type": "markdown",
   "id": "ecebfc9e",
   "metadata": {},
   "source": [
    "### Calculating the Accuracy , Confusion_Matrix , Classification_Report"
   ]
  },
  {
   "cell_type": "code",
   "execution_count": 45,
   "id": "f76f1dfc",
   "metadata": {},
   "outputs": [],
   "source": [
    "from sklearn.metrics import accuracy_score , confusion_matrix , classification_report"
   ]
  },
  {
   "cell_type": "code",
   "execution_count": 46,
   "id": "78d0308f",
   "metadata": {},
   "outputs": [
    {
     "data": {
      "text/plain": [
       "array([[139,  27],\n",
       "       [ 20,  45]], dtype=int64)"
      ]
     },
     "execution_count": 46,
     "metadata": {},
     "output_type": "execute_result"
    }
   ],
   "source": [
    "confusion_matrix(y_pred,y_test)"
   ]
  },
  {
   "cell_type": "code",
   "execution_count": 47,
   "id": "1a709399",
   "metadata": {},
   "outputs": [
    {
     "data": {
      "text/plain": [
       "'              precision    recall  f1-score   support\\n\\n           0       0.87      0.84      0.86       166\\n           1       0.62      0.69      0.66        65\\n\\n    accuracy                           0.80       231\\n   macro avg       0.75      0.76      0.76       231\\nweighted avg       0.80      0.80      0.80       231\\n'"
      ]
     },
     "execution_count": 47,
     "metadata": {},
     "output_type": "execute_result"
    }
   ],
   "source": [
    "classification_report(y_pred,y_test)"
   ]
  },
  {
   "cell_type": "markdown",
   "id": "9487f8e5",
   "metadata": {},
   "source": [
    "## Accuracy of the Model"
   ]
  },
  {
   "cell_type": "code",
   "execution_count": 48,
   "id": "21c82435",
   "metadata": {},
   "outputs": [
    {
     "data": {
      "text/plain": [
       "0.7965367965367965"
      ]
     },
     "execution_count": 48,
     "metadata": {},
     "output_type": "execute_result"
    }
   ],
   "source": [
    "accuracy_score(y_pred,y_test)"
   ]
  },
  {
   "cell_type": "markdown",
   "id": "34f641eb",
   "metadata": {},
   "source": [
    "# Hyperparameter Tuning"
   ]
  },
  {
   "cell_type": "markdown",
   "id": "9426b00a",
   "metadata": {},
   "source": [
    "### GridSearchCV and RandomizedSearchCV\n",
    "\n",
    "1. **Hyperparameter Tuning**:\n",
    "   - Both `GridSearchCV` and `RandomizedSearchCV` are used to find the best hyperparameters for a machine learning model.\n",
    "   - Hyperparameters are parameters that are not learned during training but are set prior to the training process.\n",
    "\n",
    "\n",
    "\n",
    "2. **GridSearchCV**:\n",
    "   - **Method**: Performs an exhaustive search over a specified parameter grid.\n",
    "   - **Process**: Evaluates all possible combinations of the provided hyperparameter values.\n",
    "   - **Advantage**: Guarantees finding the optimal set of hyperparameters within the provided grid.\n",
    "   - **Disadvantage**: Can be computationally expensive and time-consuming, especially with large grids and datasets.\n",
    "\n",
    "\n",
    "\n",
    "3. **RandomizedSearchCV**:\n",
    "   - **Method**: Performs a random search over the specified parameter grid.\n",
    "   - **Process**: Samples a fixed number of parameter settings from the grid.\n",
    "   - **Advantage**: Faster and more efficient than GridSearchCV, especially with large parameter spaces.\n",
    "   - **Disadvantage**: May not find the absolute best set of hyperparameters but generally finds a good set in less time.\n",
    "\n",
    "\n",
    "\n",
    "4. **Usage in Model Optimization**:\n",
    "   - Both methods are essential for improving model performance by systematically exploring the hyperparameter space and identifying the best combination to optimize model accuracy and generalization.\n",
    "   - They help in automating the hyperparameter tuning process, making the model development more efficient and effective.\n",
    "\n",
    "\n",
    "\n",
    "By using `GridSearchCV` and `RandomizedSearchCV`, data scientists can enhance the performance of their machine learning models by finding the optimal hyperparameters more efficiently.\n"
   ]
  },
  {
   "cell_type": "markdown",
   "id": "40bbc83c",
   "metadata": {},
   "source": [
    "## GridSearchCV"
   ]
  },
  {
   "cell_type": "code",
   "execution_count": 50,
   "id": "3e18c00b",
   "metadata": {},
   "outputs": [],
   "source": [
    "from sklearn.model_selection import GridSearchCV "
   ]
  },
  {
   "cell_type": "code",
   "execution_count": 51,
   "id": "8fc81aa8",
   "metadata": {},
   "outputs": [],
   "source": [
    "parameters = {'penalty':('l1','l2','elasticnet',None),'C':[1,10,20],\n",
    "             'solver':('lbfgs', 'liblinear', 'newton-cg', 'newton-cholesky', 'sag', 'saga')}"
   ]
  },
  {
   "cell_type": "code",
   "execution_count": 52,
   "id": "5593a643",
   "metadata": {},
   "outputs": [],
   "source": [
    "clf = GridSearchCV(LogisticRegression(),param_grid=parameters , cv=5)"
   ]
  },
  {
   "cell_type": "code",
   "execution_count": 53,
   "id": "a7062c4e",
   "metadata": {
    "scrolled": true
   },
   "outputs": [
    {
     "data": {
      "text/plain": [
       "GridSearchCV(cv=5, estimator=LogisticRegression(),\n",
       "             param_grid={'C': [1, 10, 20],\n",
       "                         'penalty': ('l1', 'l2', 'elasticnet', None),\n",
       "                         'solver': ('lbfgs', 'liblinear', 'newton-cg',\n",
       "                                    'newton-cholesky', 'sag', 'saga')})"
      ]
     },
     "execution_count": 53,
     "metadata": {},
     "output_type": "execute_result"
    }
   ],
   "source": [
    "clf.fit(x_train,y_train)"
   ]
  },
  {
   "cell_type": "markdown",
   "id": "f9cfd390",
   "metadata": {},
   "source": [
    "### Best Parameters"
   ]
  },
  {
   "cell_type": "code",
   "execution_count": 54,
   "id": "2f12452d",
   "metadata": {},
   "outputs": [
    {
     "data": {
      "text/plain": [
       "{'C': 1, 'penalty': 'l1', 'solver': 'liblinear'}"
      ]
     },
     "execution_count": 54,
     "metadata": {},
     "output_type": "execute_result"
    }
   ],
   "source": [
    "clf.best_params_"
   ]
  },
  {
   "cell_type": "markdown",
   "id": "bf4c6e89",
   "metadata": {},
   "source": [
    "### Retraining the model with these parameters to increase the accuracy of the model"
   ]
  },
  {
   "cell_type": "code",
   "execution_count": 55,
   "id": "cc7a311c",
   "metadata": {},
   "outputs": [],
   "source": [
    "classifierr = LogisticRegression(penalty='l1',solver='liblinear',C=1)"
   ]
  },
  {
   "cell_type": "code",
   "execution_count": 56,
   "id": "ccc077d3",
   "metadata": {},
   "outputs": [
    {
     "data": {
      "text/plain": [
       "LogisticRegression(C=1, penalty='l1', solver='liblinear')"
      ]
     },
     "execution_count": 56,
     "metadata": {},
     "output_type": "execute_result"
    }
   ],
   "source": [
    "classifierr.fit(x_train,y_train)"
   ]
  },
  {
   "cell_type": "markdown",
   "id": "becaf684",
   "metadata": {},
   "source": [
    "### Re-Testing"
   ]
  },
  {
   "cell_type": "code",
   "execution_count": 57,
   "id": "836959ed",
   "metadata": {},
   "outputs": [],
   "source": [
    "y_pred = classifierr.predict(x_test)"
   ]
  },
  {
   "cell_type": "markdown",
   "id": "12292a3a",
   "metadata": {},
   "source": [
    "### Confusion Matrix"
   ]
  },
  {
   "cell_type": "markdown",
   "id": "65b9adf5",
   "metadata": {},
   "source": [
    "* We can see that we got better result in confusion matris as compared to previous one."
   ]
  },
  {
   "cell_type": "code",
   "execution_count": 58,
   "id": "b9e9112a",
   "metadata": {},
   "outputs": [
    {
     "data": {
      "text/plain": [
       "array([[141,  27],\n",
       "       [ 18,  45]], dtype=int64)"
      ]
     },
     "execution_count": 58,
     "metadata": {},
     "output_type": "execute_result"
    }
   ],
   "source": [
    "confusion_matrix(y_pred,y_test)"
   ]
  },
  {
   "cell_type": "markdown",
   "id": "ff3d81ef",
   "metadata": {},
   "source": [
    "### Classification Report"
   ]
  },
  {
   "cell_type": "code",
   "execution_count": 59,
   "id": "4216d364",
   "metadata": {},
   "outputs": [
    {
     "data": {
      "text/plain": [
       "'              precision    recall  f1-score   support\\n\\n           0       0.89      0.84      0.86       168\\n           1       0.62      0.71      0.67        63\\n\\n    accuracy                           0.81       231\\n   macro avg       0.76      0.78      0.76       231\\nweighted avg       0.82      0.81      0.81       231\\n'"
      ]
     },
     "execution_count": 59,
     "metadata": {},
     "output_type": "execute_result"
    }
   ],
   "source": [
    "classification_report(y_pred,y_test)"
   ]
  },
  {
   "cell_type": "markdown",
   "id": "02689520",
   "metadata": {},
   "source": [
    "### Accuracy \n",
    "\n",
    "* We can see that the accuracy of the model is increased "
   ]
  },
  {
   "cell_type": "code",
   "execution_count": 60,
   "id": "f86bc827",
   "metadata": {},
   "outputs": [
    {
     "data": {
      "text/plain": [
       "0.8051948051948052"
      ]
     },
     "execution_count": 60,
     "metadata": {},
     "output_type": "execute_result"
    }
   ],
   "source": [
    "accuracy_score(y_pred,y_test)"
   ]
  },
  {
   "cell_type": "markdown",
   "id": "cc880d00",
   "metadata": {},
   "source": [
    "## RandomizedSearchCV"
   ]
  },
  {
   "cell_type": "code",
   "execution_count": 79,
   "id": "eeb82325",
   "metadata": {},
   "outputs": [],
   "source": [
    "from sklearn.model_selection import RandomizedSearchCV "
   ]
  },
  {
   "cell_type": "code",
   "execution_count": 80,
   "id": "5f2d0bea",
   "metadata": {},
   "outputs": [],
   "source": [
    "parameters = {'penalty':('l1','l2','elasticnet',None),'C':[1,10,20],\n",
    "             'solver':('lbfgs', 'liblinear', 'newton-cg', 'newton-cholesky', 'sag', 'saga')}"
   ]
  },
  {
   "cell_type": "code",
   "execution_count": 81,
   "id": "79f3b072",
   "metadata": {},
   "outputs": [],
   "source": [
    "random_clf = RandomizedSearchCV(LogisticRegression(),param_distributions=parameters,cv=5)"
   ]
  },
  {
   "cell_type": "markdown",
   "id": "b5e8e86f",
   "metadata": {},
   "source": [
    "### Best Parameters"
   ]
  },
  {
   "cell_type": "code",
   "execution_count": 83,
   "id": "4d3e84c1",
   "metadata": {},
   "outputs": [
    {
     "data": {
      "text/plain": [
       "{'solver': 'newton-cg', 'penalty': 'l2', 'C': 1}"
      ]
     },
     "execution_count": 83,
     "metadata": {},
     "output_type": "execute_result"
    }
   ],
   "source": [
    "random_clf.best_params_"
   ]
  },
  {
   "cell_type": "markdown",
   "id": "049aea1a",
   "metadata": {},
   "source": [
    "### Retraining the model with these parameters to increase the accuracy of the model"
   ]
  },
  {
   "cell_type": "code",
   "execution_count": 82,
   "id": "b86be347",
   "metadata": {},
   "outputs": [
    {
     "data": {
      "text/plain": [
       "RandomizedSearchCV(cv=5, estimator=LogisticRegression(),\n",
       "                   param_distributions={'C': [1, 10, 20],\n",
       "                                        'penalty': ('l1', 'l2', 'elasticnet',\n",
       "                                                    None),\n",
       "                                        'solver': ('lbfgs', 'liblinear',\n",
       "                                                   'newton-cg',\n",
       "                                                   'newton-cholesky', 'sag',\n",
       "                                                   'saga')})"
      ]
     },
     "execution_count": 82,
     "metadata": {},
     "output_type": "execute_result"
    }
   ],
   "source": [
    "random_clf.fit(x_train,y_train)"
   ]
  },
  {
   "cell_type": "code",
   "execution_count": 84,
   "id": "55f97ca1",
   "metadata": {},
   "outputs": [],
   "source": [
    "y_pred = random_clf.predict(x_test)"
   ]
  },
  {
   "cell_type": "code",
   "execution_count": 85,
   "id": "323db875",
   "metadata": {},
   "outputs": [
    {
     "data": {
      "text/plain": [
       "array([[140,  27],\n",
       "       [ 19,  45]], dtype=int64)"
      ]
     },
     "execution_count": 85,
     "metadata": {},
     "output_type": "execute_result"
    }
   ],
   "source": [
    "confusion_matrix(y_pred,y_test)"
   ]
  },
  {
   "cell_type": "code",
   "execution_count": 86,
   "id": "0adb934d",
   "metadata": {},
   "outputs": [
    {
     "data": {
      "text/plain": [
       "'              precision    recall  f1-score   support\\n\\n           0       0.88      0.84      0.86       167\\n           1       0.62      0.70      0.66        64\\n\\n    accuracy                           0.80       231\\n   macro avg       0.75      0.77      0.76       231\\nweighted avg       0.81      0.80      0.80       231\\n'"
      ]
     },
     "execution_count": 86,
     "metadata": {},
     "output_type": "execute_result"
    }
   ],
   "source": [
    "classification_report(y_pred,y_test)"
   ]
  },
  {
   "cell_type": "markdown",
   "id": "ce15f83f",
   "metadata": {},
   "source": [
    "### Accuracy \n",
    "\n",
    "* We can see that the accuracy of the model is increased "
   ]
  },
  {
   "cell_type": "code",
   "execution_count": 87,
   "id": "a1835062",
   "metadata": {},
   "outputs": [
    {
     "data": {
      "text/plain": [
       "0.8008658008658008"
      ]
     },
     "execution_count": 87,
     "metadata": {},
     "output_type": "execute_result"
    }
   ],
   "source": [
    "accuracy_score(y_pred,y_test)"
   ]
  },
  {
   "cell_type": "markdown",
   "id": "d42e9405",
   "metadata": {},
   "source": [
    "## Conclusion\n",
    "This project demonstrates the application of logistic regression for predicting diabetes in a specific population. The model developed can help in identifying individuals at risk, enabling early diagnosis and intervention. The performance of the model can be evaluated using metrics such as accuracy, precision, recall, and F1-score.\n",
    "\n"
   ]
  },
  {
   "cell_type": "markdown",
   "id": "83ef3e96",
   "metadata": {},
   "source": [
    "## Future Work\n",
    "- **Model Improvement**: Explore other machine learning algorithms such as Random Forest, SVM, and Neural Networks to improve prediction accuracy.\n",
    "\n",
    "\n",
    "- **Feature Engineering**: Investigate additional features and interactions between features to enhance model performance.\n",
    "\n",
    "\n",
    "- **Cross-validation**: Implement k-fold cross-validation to ensure the model's robustness and generalizability.\n",
    "\n",
    "\n",
    "- **Real-world Testing**: Validate the model on real-world data from different populations to assess its effectiveness in \n",
    "diverse settings.\n",
    "\n",
    "\n",
    "- **Integration with Healthcare Systems**: Develop tools and applications that integrate the model into healthcare systems for practical use in clinical settings.\n",
    "\n"
   ]
  },
  {
   "cell_type": "markdown",
   "id": "db3d1081",
   "metadata": {},
   "source": [
    "#### By extending this work, we can contribute to more effective diabetes prediction and management strategies, ultimately improving patient outcomes.\n"
   ]
  },
  {
   "cell_type": "code",
   "execution_count": null,
   "id": "07e0c3f8",
   "metadata": {},
   "outputs": [],
   "source": []
  }
 ],
 "metadata": {
  "kernelspec": {
   "display_name": "Python 3 (ipykernel)",
   "language": "python",
   "name": "python3"
  },
  "language_info": {
   "codemirror_mode": {
    "name": "ipython",
    "version": 3
   },
   "file_extension": ".py",
   "mimetype": "text/x-python",
   "name": "python",
   "nbconvert_exporter": "python",
   "pygments_lexer": "ipython3",
   "version": "3.9.13"
  }
 },
 "nbformat": 4,
 "nbformat_minor": 5
}
