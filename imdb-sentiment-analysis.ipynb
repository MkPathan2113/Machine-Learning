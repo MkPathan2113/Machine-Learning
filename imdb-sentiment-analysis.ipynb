{
 "cells": [
  {
   "cell_type": "code",
   "execution_count": 1,
   "id": "01641cde",
   "metadata": {
    "_cell_guid": "b1076dfc-b9ad-4769-8c92-a6c4dae69d19",
    "_uuid": "8f2839f25d086af736a60e9eeb907d3b93b6e0e5",
    "execution": {
     "iopub.execute_input": "2024-08-22T21:07:17.092566Z",
     "iopub.status.busy": "2024-08-22T21:07:17.092040Z",
     "iopub.status.idle": "2024-08-22T21:07:18.333606Z",
     "shell.execute_reply": "2024-08-22T21:07:18.331656Z"
    },
    "papermill": {
     "duration": 1.25708,
     "end_time": "2024-08-22T21:07:18.336682",
     "exception": false,
     "start_time": "2024-08-22T21:07:17.079602",
     "status": "completed"
    },
    "tags": []
   },
   "outputs": [
    {
     "name": "stdout",
     "output_type": "stream",
     "text": [
      "/kaggle/input/imdb-dataset-of-50k-movie-reviews/IMDB Dataset.csv\n"
     ]
    }
   ],
   "source": [
    "# This Python 3 environment comes with many helpful analytics libraries installed\n",
    "# It is defined by the kaggle/python Docker image: https://github.com/kaggle/docker-python\n",
    "# For example, here's several helpful packages to load\n",
    "\n",
    "import numpy as np # linear algebra\n",
    "import pandas as pd # data processing, CSV file I/O (e.g. pd.read_csv)\n",
    "\n",
    "# Input data files are available in the read-only \"../input/\" directory\n",
    "# For example, running this (by clicking run or pressing Shift+Enter) will list all files under the input directory\n",
    "\n",
    "import os\n",
    "for dirname, _, filenames in os.walk('/kaggle/input'):\n",
    "    for filename in filenames:\n",
    "        print(os.path.join(dirname, filename))\n",
    "\n",
    "# You can write up to 20GB to the current directory (/kaggle/working/) that gets preserved as output when you create a version using \"Save & Run All\" \n",
    "# You can also write temporary files to /kaggle/temp/, but they won't be saved outside of the current session"
   ]
  },
  {
   "cell_type": "markdown",
   "id": "c8e59e79",
   "metadata": {
    "papermill": {
     "duration": 0.010476,
     "end_time": "2024-08-22T21:07:18.357945",
     "exception": false,
     "start_time": "2024-08-22T21:07:18.347469",
     "status": "completed"
    },
    "tags": []
   },
   "source": [
    "<div  style=\"border-radius: 10px; border: 2px solid #3498db; padding: 20px; background-color: #E8F6EF; box-shadow: 0px 2px 4px rgba(0, 0, 0, 0.2);\">\n",
    "    <h1 style=\"color: #17A05D; text-shadow: 2px 2px 4px rgba(0, 0, 0, 0.5); font-weight: bold; margin-bottom: 10px;\">One of the most common application of Natural Language Processing (NLP) is text classification especially sentiment analysis. Sentiment analysis of the IMDB dataset is the Hello World of NLP. So, let's deep dive into NLP.</h1>\n",
    "</div>\n",
    "\n"
   ]
  },
  {
   "cell_type": "markdown",
   "id": "e97ba631",
   "metadata": {
    "papermill": {
     "duration": 0.010129,
     "end_time": "2024-08-22T21:07:18.378109",
     "exception": false,
     "start_time": "2024-08-22T21:07:18.367980",
     "status": "completed"
    },
    "tags": []
   },
   "source": [
    "<u>\n",
    "    <h1 style=\"text-shadow: 2px 2px 4px rgba(0, 0, 0, 0.5); font-weight: bold; margin-bottom: 10px;\"><span style=\"color: red;\"></span>Load IMDB dataset &#128221;</h1>\n",
    "</u>"
   ]
  },
  {
   "cell_type": "code",
   "execution_count": 2,
   "id": "f4fa594a",
   "metadata": {
    "execution": {
     "iopub.execute_input": "2024-08-22T21:07:18.401539Z",
     "iopub.status.busy": "2024-08-22T21:07:18.400838Z",
     "iopub.status.idle": "2024-08-22T21:07:20.098238Z",
     "shell.execute_reply": "2024-08-22T21:07:20.096965Z"
    },
    "papermill": {
     "duration": 1.713893,
     "end_time": "2024-08-22T21:07:20.102147",
     "exception": false,
     "start_time": "2024-08-22T21:07:18.388254",
     "status": "completed"
    },
    "tags": []
   },
   "outputs": [
    {
     "data": {
      "text/html": [
       "<div>\n",
       "<style scoped>\n",
       "    .dataframe tbody tr th:only-of-type {\n",
       "        vertical-align: middle;\n",
       "    }\n",
       "\n",
       "    .dataframe tbody tr th {\n",
       "        vertical-align: top;\n",
       "    }\n",
       "\n",
       "    .dataframe thead th {\n",
       "        text-align: right;\n",
       "    }\n",
       "</style>\n",
       "<table border=\"1\" class=\"dataframe\">\n",
       "  <thead>\n",
       "    <tr style=\"text-align: right;\">\n",
       "      <th></th>\n",
       "      <th>review</th>\n",
       "      <th>sentiment</th>\n",
       "    </tr>\n",
       "  </thead>\n",
       "  <tbody>\n",
       "    <tr>\n",
       "      <th>0</th>\n",
       "      <td>One of the other reviewers has mentioned that ...</td>\n",
       "      <td>positive</td>\n",
       "    </tr>\n",
       "    <tr>\n",
       "      <th>1</th>\n",
       "      <td>A wonderful little production. &lt;br /&gt;&lt;br /&gt;The...</td>\n",
       "      <td>positive</td>\n",
       "    </tr>\n",
       "    <tr>\n",
       "      <th>2</th>\n",
       "      <td>I thought this was a wonderful way to spend ti...</td>\n",
       "      <td>positive</td>\n",
       "    </tr>\n",
       "    <tr>\n",
       "      <th>3</th>\n",
       "      <td>Basically there's a family where a little boy ...</td>\n",
       "      <td>negative</td>\n",
       "    </tr>\n",
       "    <tr>\n",
       "      <th>4</th>\n",
       "      <td>Petter Mattei's \"Love in the Time of Money\" is...</td>\n",
       "      <td>positive</td>\n",
       "    </tr>\n",
       "    <tr>\n",
       "      <th>...</th>\n",
       "      <td>...</td>\n",
       "      <td>...</td>\n",
       "    </tr>\n",
       "    <tr>\n",
       "      <th>49995</th>\n",
       "      <td>I thought this movie did a down right good job...</td>\n",
       "      <td>positive</td>\n",
       "    </tr>\n",
       "    <tr>\n",
       "      <th>49996</th>\n",
       "      <td>Bad plot, bad dialogue, bad acting, idiotic di...</td>\n",
       "      <td>negative</td>\n",
       "    </tr>\n",
       "    <tr>\n",
       "      <th>49997</th>\n",
       "      <td>I am a Catholic taught in parochial elementary...</td>\n",
       "      <td>negative</td>\n",
       "    </tr>\n",
       "    <tr>\n",
       "      <th>49998</th>\n",
       "      <td>I'm going to have to disagree with the previou...</td>\n",
       "      <td>negative</td>\n",
       "    </tr>\n",
       "    <tr>\n",
       "      <th>49999</th>\n",
       "      <td>No one expects the Star Trek movies to be high...</td>\n",
       "      <td>negative</td>\n",
       "    </tr>\n",
       "  </tbody>\n",
       "</table>\n",
       "<p>50000 rows × 2 columns</p>\n",
       "</div>"
      ],
      "text/plain": [
       "                                                  review sentiment\n",
       "0      One of the other reviewers has mentioned that ...  positive\n",
       "1      A wonderful little production. <br /><br />The...  positive\n",
       "2      I thought this was a wonderful way to spend ti...  positive\n",
       "3      Basically there's a family where a little boy ...  negative\n",
       "4      Petter Mattei's \"Love in the Time of Money\" is...  positive\n",
       "...                                                  ...       ...\n",
       "49995  I thought this movie did a down right good job...  positive\n",
       "49996  Bad plot, bad dialogue, bad acting, idiotic di...  negative\n",
       "49997  I am a Catholic taught in parochial elementary...  negative\n",
       "49998  I'm going to have to disagree with the previou...  negative\n",
       "49999  No one expects the Star Trek movies to be high...  negative\n",
       "\n",
       "[50000 rows x 2 columns]"
      ]
     },
     "execution_count": 2,
     "metadata": {},
     "output_type": "execute_result"
    }
   ],
   "source": [
    "data = pd.read_csv('/kaggle/input/imdb-dataset-of-50k-movie-reviews/IMDB Dataset.csv')\n",
    "data"
   ]
  },
  {
   "cell_type": "code",
   "execution_count": 3,
   "id": "b5f63ce1",
   "metadata": {
    "execution": {
     "iopub.execute_input": "2024-08-22T21:07:20.132359Z",
     "iopub.status.busy": "2024-08-22T21:07:20.131797Z",
     "iopub.status.idle": "2024-08-22T21:07:20.141625Z",
     "shell.execute_reply": "2024-08-22T21:07:20.139939Z"
    },
    "papermill": {
     "duration": 0.027741,
     "end_time": "2024-08-22T21:07:20.145302",
     "exception": false,
     "start_time": "2024-08-22T21:07:20.117561",
     "status": "completed"
    },
    "tags": []
   },
   "outputs": [
    {
     "data": {
      "text/plain": [
       "(50000, 2)"
      ]
     },
     "execution_count": 3,
     "metadata": {},
     "output_type": "execute_result"
    }
   ],
   "source": [
    "data.shape"
   ]
  },
  {
   "cell_type": "code",
   "execution_count": 4,
   "id": "97bbc53c",
   "metadata": {
    "execution": {
     "iopub.execute_input": "2024-08-22T21:07:20.170295Z",
     "iopub.status.busy": "2024-08-22T21:07:20.169780Z",
     "iopub.status.idle": "2024-08-22T21:07:20.197732Z",
     "shell.execute_reply": "2024-08-22T21:07:20.196391Z"
    },
    "papermill": {
     "duration": 0.044601,
     "end_time": "2024-08-22T21:07:20.201572",
     "exception": false,
     "start_time": "2024-08-22T21:07:20.156971",
     "status": "completed"
    },
    "tags": []
   },
   "outputs": [
    {
     "data": {
      "text/plain": [
       "review       0\n",
       "sentiment    0\n",
       "dtype: int64"
      ]
     },
     "execution_count": 4,
     "metadata": {},
     "output_type": "execute_result"
    }
   ],
   "source": [
    "data.isnull().sum()"
   ]
  },
  {
   "cell_type": "markdown",
   "id": "d5618411",
   "metadata": {
    "papermill": {
     "duration": 0.010878,
     "end_time": "2024-08-22T21:07:20.229196",
     "exception": false,
     "start_time": "2024-08-22T21:07:20.218318",
     "status": "completed"
    },
    "tags": []
   },
   "source": [
    "<div  style=\"border-radius: 10px; border: 2px solid #3498db; padding: 20px; background-color: #E8F6EF; box-shadow: 0px 2px 4px rgba(0, 0, 0, 0.2);\">\n",
    "    <h1 style=\"color: #17A05D; text-shadow: 2px 2px 4px rgba(0, 0, 0, 0.5); font-weight: bold; margin-bottom: 10px;\">In this dataset their consists of 50000 moview reviews. Here, use only two sentiment positive and negative.</h1>\n",
    "</div>\n"
   ]
  },
  {
   "cell_type": "code",
   "execution_count": 5,
   "id": "99e58f8e",
   "metadata": {
    "execution": {
     "iopub.execute_input": "2024-08-22T21:07:20.255535Z",
     "iopub.status.busy": "2024-08-22T21:07:20.255020Z",
     "iopub.status.idle": "2024-08-22T21:07:20.281497Z",
     "shell.execute_reply": "2024-08-22T21:07:20.280037Z"
    },
    "papermill": {
     "duration": 0.043547,
     "end_time": "2024-08-22T21:07:20.285459",
     "exception": false,
     "start_time": "2024-08-22T21:07:20.241912",
     "status": "completed"
    },
    "tags": []
   },
   "outputs": [
    {
     "data": {
      "text/plain": [
       "sentiment\n",
       "positive    25000\n",
       "negative    25000\n",
       "Name: count, dtype: int64"
      ]
     },
     "execution_count": 5,
     "metadata": {},
     "output_type": "execute_result"
    }
   ],
   "source": [
    "data['sentiment'].value_counts()"
   ]
  },
  {
   "cell_type": "markdown",
   "id": "27e05434",
   "metadata": {
    "papermill": {
     "duration": 0.011879,
     "end_time": "2024-08-22T21:07:20.311726",
     "exception": false,
     "start_time": "2024-08-22T21:07:20.299847",
     "status": "completed"
    },
    "tags": []
   },
   "source": [
    "<u>\n",
    "    <h1 style=\"text-shadow: 2px 2px 4px rgba(0, 0, 0, 0.5); font-weight: bold; margin-bottom: 10px;\"><span style=\"color: red;\"></span>Data cleaning. Remove HTML tags, punctuation, numbers and convert into lowercase.</h1>\n",
    "</u>"
   ]
  },
  {
   "cell_type": "code",
   "execution_count": 6,
   "id": "09b54a2e",
   "metadata": {
    "execution": {
     "iopub.execute_input": "2024-08-22T21:07:20.337503Z",
     "iopub.status.busy": "2024-08-22T21:07:20.336904Z",
     "iopub.status.idle": "2024-08-22T21:07:20.346706Z",
     "shell.execute_reply": "2024-08-22T21:07:20.345126Z"
    },
    "papermill": {
     "duration": 0.026161,
     "end_time": "2024-08-22T21:07:20.349890",
     "exception": false,
     "start_time": "2024-08-22T21:07:20.323729",
     "status": "completed"
    },
    "tags": []
   },
   "outputs": [],
   "source": [
    "import re\n",
    "import string\n",
    "\n",
    "def clean_text(text):\n",
    "    text = re.sub(r'<.*?>', '', text)\n",
    "    text = text.translate(str.maketrans('', '', string.punctuation))\n",
    "    text = re.sub(r'\\d+', '', text)\n",
    "    text = text.lower()\n",
    "    return text\n",
    "\n"
   ]
  },
  {
   "cell_type": "code",
   "execution_count": 7,
   "id": "0552298c",
   "metadata": {
    "execution": {
     "iopub.execute_input": "2024-08-22T21:07:20.374596Z",
     "iopub.status.busy": "2024-08-22T21:07:20.373973Z",
     "iopub.status.idle": "2024-08-22T21:07:24.724199Z",
     "shell.execute_reply": "2024-08-22T21:07:24.722166Z"
    },
    "papermill": {
     "duration": 4.366239,
     "end_time": "2024-08-22T21:07:24.727536",
     "exception": false,
     "start_time": "2024-08-22T21:07:20.361297",
     "status": "completed"
    },
    "tags": []
   },
   "outputs": [],
   "source": [
    "data['review'] = data['review'].apply(clean_text)\n"
   ]
  },
  {
   "cell_type": "code",
   "execution_count": 8,
   "id": "fffa8463",
   "metadata": {
    "execution": {
     "iopub.execute_input": "2024-08-22T21:07:24.754311Z",
     "iopub.status.busy": "2024-08-22T21:07:24.753870Z",
     "iopub.status.idle": "2024-08-22T21:07:24.766810Z",
     "shell.execute_reply": "2024-08-22T21:07:24.765277Z"
    },
    "papermill": {
     "duration": 0.030659,
     "end_time": "2024-08-22T21:07:24.770008",
     "exception": false,
     "start_time": "2024-08-22T21:07:24.739349",
     "status": "completed"
    },
    "tags": []
   },
   "outputs": [
    {
     "data": {
      "text/html": [
       "<div>\n",
       "<style scoped>\n",
       "    .dataframe tbody tr th:only-of-type {\n",
       "        vertical-align: middle;\n",
       "    }\n",
       "\n",
       "    .dataframe tbody tr th {\n",
       "        vertical-align: top;\n",
       "    }\n",
       "\n",
       "    .dataframe thead th {\n",
       "        text-align: right;\n",
       "    }\n",
       "</style>\n",
       "<table border=\"1\" class=\"dataframe\">\n",
       "  <thead>\n",
       "    <tr style=\"text-align: right;\">\n",
       "      <th></th>\n",
       "      <th>review</th>\n",
       "      <th>sentiment</th>\n",
       "    </tr>\n",
       "  </thead>\n",
       "  <tbody>\n",
       "    <tr>\n",
       "      <th>0</th>\n",
       "      <td>one of the other reviewers has mentioned that ...</td>\n",
       "      <td>positive</td>\n",
       "    </tr>\n",
       "    <tr>\n",
       "      <th>1</th>\n",
       "      <td>a wonderful little production the filming tech...</td>\n",
       "      <td>positive</td>\n",
       "    </tr>\n",
       "    <tr>\n",
       "      <th>2</th>\n",
       "      <td>i thought this was a wonderful way to spend ti...</td>\n",
       "      <td>positive</td>\n",
       "    </tr>\n",
       "    <tr>\n",
       "      <th>3</th>\n",
       "      <td>basically theres a family where a little boy j...</td>\n",
       "      <td>negative</td>\n",
       "    </tr>\n",
       "    <tr>\n",
       "      <th>4</th>\n",
       "      <td>petter matteis love in the time of money is a ...</td>\n",
       "      <td>positive</td>\n",
       "    </tr>\n",
       "  </tbody>\n",
       "</table>\n",
       "</div>"
      ],
      "text/plain": [
       "                                              review sentiment\n",
       "0  one of the other reviewers has mentioned that ...  positive\n",
       "1  a wonderful little production the filming tech...  positive\n",
       "2  i thought this was a wonderful way to spend ti...  positive\n",
       "3  basically theres a family where a little boy j...  negative\n",
       "4  petter matteis love in the time of money is a ...  positive"
      ]
     },
     "execution_count": 8,
     "metadata": {},
     "output_type": "execute_result"
    }
   ],
   "source": [
    "data.head()\n"
   ]
  },
  {
   "cell_type": "markdown",
   "id": "d1ed486a",
   "metadata": {
    "papermill": {
     "duration": 0.011574,
     "end_time": "2024-08-22T21:07:24.793087",
     "exception": false,
     "start_time": "2024-08-22T21:07:24.781513",
     "status": "completed"
    },
    "tags": []
   },
   "source": [
    "<u>\n",
    "    <h1 style=\"text-shadow: 2px 2px 4px rgba(0, 0, 0, 0.5); font-weight: bold; margin-bottom: 10px;\"><span style=\"color: red;\"></span>Define X as reviews and y as sentiment.</h1>\n",
    "</u>"
   ]
  },
  {
   "cell_type": "code",
   "execution_count": 9,
   "id": "4321ccb8",
   "metadata": {
    "execution": {
     "iopub.execute_input": "2024-08-22T21:07:24.819244Z",
     "iopub.status.busy": "2024-08-22T21:07:24.818778Z",
     "iopub.status.idle": "2024-08-22T21:07:24.824777Z",
     "shell.execute_reply": "2024-08-22T21:07:24.823549Z"
    },
    "papermill": {
     "duration": 0.022538,
     "end_time": "2024-08-22T21:07:24.827757",
     "exception": false,
     "start_time": "2024-08-22T21:07:24.805219",
     "status": "completed"
    },
    "tags": []
   },
   "outputs": [],
   "source": [
    "X = data['review']\n",
    "y = data['sentiment']"
   ]
  },
  {
   "cell_type": "markdown",
   "id": "b9ee1186",
   "metadata": {
    "papermill": {
     "duration": 0.011031,
     "end_time": "2024-08-22T21:07:24.850370",
     "exception": false,
     "start_time": "2024-08-22T21:07:24.839339",
     "status": "completed"
    },
    "tags": []
   },
   "source": [
    "<u>\n",
    "    <h1 style=\"text-shadow: 2px 2px 4px rgba(0, 0, 0, 0.5); font-weight: bold; margin-bottom: 10px;\"><span style=\"color: red;\"></span>Using TfidfVectorizer and Machine learning algorithm</h1>\n",
    "</u>"
   ]
  },
  {
   "cell_type": "code",
   "execution_count": 10,
   "id": "b7d7ea89",
   "metadata": {
    "execution": {
     "iopub.execute_input": "2024-08-22T21:07:24.875657Z",
     "iopub.status.busy": "2024-08-22T21:07:24.874956Z",
     "iopub.status.idle": "2024-08-22T21:07:26.551628Z",
     "shell.execute_reply": "2024-08-22T21:07:26.549841Z"
    },
    "papermill": {
     "duration": 1.692993,
     "end_time": "2024-08-22T21:07:26.554829",
     "exception": false,
     "start_time": "2024-08-22T21:07:24.861836",
     "status": "completed"
    },
    "tags": []
   },
   "outputs": [
    {
     "name": "stdout",
     "output_type": "stream",
     "text": [
      "Training data shape: (40000,) (40000,)\n",
      "Testing data shape: (10000,) (10000,)\n"
     ]
    }
   ],
   "source": [
    "from sklearn.model_selection import train_test_split\n",
    "\n",
    "X_train, X_test, y_train, y_test = train_test_split(X, y, test_size=0.2, random_state=42)\n",
    "print(\"Training data shape:\", X_train.shape, y_train.shape)\n",
    "print(\"Testing data shape:\", X_test.shape, y_test.shape)"
   ]
  },
  {
   "cell_type": "code",
   "execution_count": 11,
   "id": "9985d80d",
   "metadata": {
    "execution": {
     "iopub.execute_input": "2024-08-22T21:07:26.581135Z",
     "iopub.status.busy": "2024-08-22T21:07:26.580670Z",
     "iopub.status.idle": "2024-08-22T21:07:41.641292Z",
     "shell.execute_reply": "2024-08-22T21:07:41.639463Z"
    },
    "papermill": {
     "duration": 15.078848,
     "end_time": "2024-08-22T21:07:41.644888",
     "exception": false,
     "start_time": "2024-08-22T21:07:26.566040",
     "status": "completed"
    },
    "tags": []
   },
   "outputs": [
    {
     "name": "stdout",
     "output_type": "stream",
     "text": [
      "TF-IDF transformed training data shape: (40000, 5000)\n",
      "TF-IDF transformed testing data shape: (10000, 5000)\n"
     ]
    }
   ],
   "source": [
    "from sklearn.feature_extraction.text import TfidfVectorizer\n",
    "\n",
    "tfidf = TfidfVectorizer(max_features=5000)\n",
    "\n",
    "X_train_tfidf = tfidf.fit_transform(X_train)\n",
    "X_test_tfidf = tfidf.transform(X_test)\n",
    "\n",
    "print(\"TF-IDF transformed training data shape:\", X_train_tfidf.shape)\n",
    "print(\"TF-IDF transformed testing data shape:\", X_test_tfidf.shape)\n"
   ]
  },
  {
   "cell_type": "code",
   "execution_count": 12,
   "id": "022f9d17",
   "metadata": {
    "execution": {
     "iopub.execute_input": "2024-08-22T21:07:41.670008Z",
     "iopub.status.busy": "2024-08-22T21:07:41.669508Z",
     "iopub.status.idle": "2024-08-22T21:07:44.255499Z",
     "shell.execute_reply": "2024-08-22T21:07:44.253767Z"
    },
    "papermill": {
     "duration": 2.602588,
     "end_time": "2024-08-22T21:07:44.258762",
     "exception": false,
     "start_time": "2024-08-22T21:07:41.656174",
     "status": "completed"
    },
    "tags": []
   },
   "outputs": [
    {
     "name": "stdout",
     "output_type": "stream",
     "text": [
      "Accuracy: 0.8939\n",
      "Classification Report:\n",
      "               precision    recall  f1-score   support\n",
      "\n",
      "    negative       0.90      0.88      0.89      4961\n",
      "    positive       0.89      0.91      0.90      5039\n",
      "\n",
      "    accuracy                           0.89     10000\n",
      "   macro avg       0.89      0.89      0.89     10000\n",
      "weighted avg       0.89      0.89      0.89     10000\n",
      "\n"
     ]
    }
   ],
   "source": [
    "from sklearn.linear_model import LogisticRegression\n",
    "from sklearn.metrics import accuracy_score, classification_report\n",
    "\n",
    "model = LogisticRegression(max_iter=100)\n",
    "\n",
    "model.fit(X_train_tfidf, y_train)\n",
    "\n",
    "y_pred = model.predict(X_test_tfidf)\n",
    "\n",
    "accuracy = accuracy_score(y_test, y_pred)\n",
    "report = classification_report(y_test, y_pred)\n",
    "\n",
    "print(\"Accuracy:\", accuracy)\n",
    "print(\"Classification Report:\\n\", report)\n"
   ]
  },
  {
   "cell_type": "markdown",
   "id": "321e90d0",
   "metadata": {
    "papermill": {
     "duration": 0.011402,
     "end_time": "2024-08-22T21:07:44.282729",
     "exception": false,
     "start_time": "2024-08-22T21:07:44.271327",
     "status": "completed"
    },
    "tags": []
   },
   "source": [
    "<u>\n",
    "    <h1 style=\"text-shadow: 2px 2px 4px rgba(0, 0, 0, 0.5); font-weight: bold; margin-bottom: 10px;\"><span style=\"color: red;\"></span>Using LSTM Model</h1>\n",
    "</u>"
   ]
  },
  {
   "cell_type": "code",
   "execution_count": 13,
   "id": "8778003b",
   "metadata": {
    "execution": {
     "iopub.execute_input": "2024-08-22T21:07:44.308617Z",
     "iopub.status.busy": "2024-08-22T21:07:44.307729Z",
     "iopub.status.idle": "2024-08-22T21:08:00.869968Z",
     "shell.execute_reply": "2024-08-22T21:08:00.868595Z"
    },
    "papermill": {
     "duration": 16.579007,
     "end_time": "2024-08-22T21:08:00.873363",
     "exception": false,
     "start_time": "2024-08-22T21:07:44.294356",
     "status": "completed"
    },
    "tags": []
   },
   "outputs": [
    {
     "name": "stderr",
     "output_type": "stream",
     "text": [
      "2024-08-22 21:07:47.001913: E external/local_xla/xla/stream_executor/cuda/cuda_dnn.cc:9261] Unable to register cuDNN factory: Attempting to register factory for plugin cuDNN when one has already been registered\n",
      "2024-08-22 21:07:47.002126: E external/local_xla/xla/stream_executor/cuda/cuda_fft.cc:607] Unable to register cuFFT factory: Attempting to register factory for plugin cuFFT when one has already been registered\n",
      "2024-08-22 21:07:47.203372: E external/local_xla/xla/stream_executor/cuda/cuda_blas.cc:1515] Unable to register cuBLAS factory: Attempting to register factory for plugin cuBLAS when one has already been registered\n"
     ]
    }
   ],
   "source": [
    "import tensorflow as tf\n",
    "from tensorflow.keras.preprocessing.text import Tokenizer\n",
    "from tensorflow.keras.preprocessing.sequence import pad_sequences\n",
    "from tensorflow.keras.layers import Embedding, Dense, LSTM, Conv1D, MaxPooling1D, Dropout, Flatten, GlobalMaxPooling1D, Bidirectional\n",
    "from tensorflow.keras.models import Sequential\n"
   ]
  },
  {
   "cell_type": "code",
   "execution_count": 14,
   "id": "e08c9f79",
   "metadata": {
    "execution": {
     "iopub.execute_input": "2024-08-22T21:08:00.900877Z",
     "iopub.status.busy": "2024-08-22T21:08:00.900079Z",
     "iopub.status.idle": "2024-08-22T21:08:00.922729Z",
     "shell.execute_reply": "2024-08-22T21:08:00.921436Z"
    },
    "papermill": {
     "duration": 0.039732,
     "end_time": "2024-08-22T21:08:00.926013",
     "exception": false,
     "start_time": "2024-08-22T21:08:00.886281",
     "status": "completed"
    },
    "tags": []
   },
   "outputs": [],
   "source": [
    "from sklearn.preprocessing import LabelEncoder\n",
    "\n",
    "label_encoder = LabelEncoder()\n",
    "\n",
    "y_train_encoded = label_encoder.fit_transform(y_train)\n",
    "\n",
    "y_test_encoded = label_encoder.transform(y_test)\n"
   ]
  },
  {
   "cell_type": "code",
   "execution_count": 15,
   "id": "125b9303",
   "metadata": {
    "execution": {
     "iopub.execute_input": "2024-08-22T21:08:00.952192Z",
     "iopub.status.busy": "2024-08-22T21:08:00.951700Z",
     "iopub.status.idle": "2024-08-22T21:08:12.790619Z",
     "shell.execute_reply": "2024-08-22T21:08:12.788932Z"
    },
    "papermill": {
     "duration": 11.856062,
     "end_time": "2024-08-22T21:08:12.793746",
     "exception": false,
     "start_time": "2024-08-22T21:08:00.937684",
     "status": "completed"
    },
    "tags": []
   },
   "outputs": [],
   "source": [
    "token = Tokenizer(num_words=5000, oov_token='<OOV>')\n",
    "token.fit_on_texts(X_train)\n"
   ]
  },
  {
   "cell_type": "code",
   "execution_count": 16,
   "id": "b698a3e0",
   "metadata": {
    "execution": {
     "iopub.execute_input": "2024-08-22T21:08:12.820638Z",
     "iopub.status.busy": "2024-08-22T21:08:12.820093Z",
     "iopub.status.idle": "2024-08-22T21:08:23.976089Z",
     "shell.execute_reply": "2024-08-22T21:08:23.974496Z"
    },
    "papermill": {
     "duration": 11.17283,
     "end_time": "2024-08-22T21:08:23.979079",
     "exception": false,
     "start_time": "2024-08-22T21:08:12.806249",
     "status": "completed"
    },
    "tags": []
   },
   "outputs": [],
   "source": [
    "X_train_seq = token.texts_to_sequences(X_train)\n",
    "X_test_seq = token.texts_to_sequences(X_test)"
   ]
  },
  {
   "cell_type": "code",
   "execution_count": 17,
   "id": "9665e02b",
   "metadata": {
    "execution": {
     "iopub.execute_input": "2024-08-22T21:08:24.006166Z",
     "iopub.status.busy": "2024-08-22T21:08:24.003848Z",
     "iopub.status.idle": "2024-08-22T21:08:24.923353Z",
     "shell.execute_reply": "2024-08-22T21:08:24.921965Z"
    },
    "papermill": {
     "duration": 0.93618,
     "end_time": "2024-08-22T21:08:24.926677",
     "exception": false,
     "start_time": "2024-08-22T21:08:23.990497",
     "status": "completed"
    },
    "tags": []
   },
   "outputs": [],
   "source": [
    "X_train_padded = pad_sequences(X_train_seq, padding='post', maxlen=200)\n",
    "X_test_padded = pad_sequences(X_test_seq, padding='post', maxlen=200)"
   ]
  },
  {
   "cell_type": "code",
   "execution_count": 18,
   "id": "a72e6752",
   "metadata": {
    "execution": {
     "iopub.execute_input": "2024-08-22T21:08:24.952208Z",
     "iopub.status.busy": "2024-08-22T21:08:24.951781Z",
     "iopub.status.idle": "2024-08-22T21:39:16.629532Z",
     "shell.execute_reply": "2024-08-22T21:39:16.628171Z"
    },
    "papermill": {
     "duration": 1852.460294,
     "end_time": "2024-08-22T21:39:17.398716",
     "exception": false,
     "start_time": "2024-08-22T21:08:24.938422",
     "status": "completed"
    },
    "tags": []
   },
   "outputs": [
    {
     "name": "stderr",
     "output_type": "stream",
     "text": [
      "/opt/conda/lib/python3.10/site-packages/keras/src/layers/core/embedding.py:90: UserWarning: Argument `input_length` is deprecated. Just remove it.\n",
      "  warnings.warn(\n"
     ]
    },
    {
     "name": "stdout",
     "output_type": "stream",
     "text": [
      "Epoch 1/5\n",
      "\u001b[1m1250/1250\u001b[0m \u001b[32m━━━━━━━━━━━━━━━━━━━━\u001b[0m\u001b[37m\u001b[0m \u001b[1m364s\u001b[0m 289ms/step - accuracy: 0.5567 - loss: 0.6725 - val_accuracy: 0.6326 - val_loss: 0.5980\n",
      "Epoch 2/5\n",
      "\u001b[1m1250/1250\u001b[0m \u001b[32m━━━━━━━━━━━━━━━━━━━━\u001b[0m\u001b[37m\u001b[0m \u001b[1m361s\u001b[0m 289ms/step - accuracy: 0.7961 - loss: 0.4257 - val_accuracy: 0.8811 - val_loss: 0.2846\n",
      "Epoch 3/5\n",
      "\u001b[1m1250/1250\u001b[0m \u001b[32m━━━━━━━━━━━━━━━━━━━━\u001b[0m\u001b[37m\u001b[0m \u001b[1m383s\u001b[0m 290ms/step - accuracy: 0.9097 - loss: 0.2438 - val_accuracy: 0.8933 - val_loss: 0.2735\n",
      "Epoch 4/5\n",
      "\u001b[1m1250/1250\u001b[0m \u001b[32m━━━━━━━━━━━━━━━━━━━━\u001b[0m\u001b[37m\u001b[0m \u001b[1m384s\u001b[0m 291ms/step - accuracy: 0.9325 - loss: 0.1942 - val_accuracy: 0.8865 - val_loss: 0.2695\n",
      "Epoch 5/5\n",
      "\u001b[1m1250/1250\u001b[0m \u001b[32m━━━━━━━━━━━━━━━━━━━━\u001b[0m\u001b[37m\u001b[0m \u001b[1m360s\u001b[0m 288ms/step - accuracy: 0.9478 - loss: 0.1547 - val_accuracy: 0.8865 - val_loss: 0.2902\n"
     ]
    },
    {
     "data": {
      "text/plain": [
       "<keras.src.callbacks.history.History at 0x788b5b796c80>"
      ]
     },
     "execution_count": 18,
     "metadata": {},
     "output_type": "execute_result"
    }
   ],
   "source": [
    "rnn_model = Sequential([\n",
    "    Embedding(input_dim=5000, output_dim=128, input_length=200),\n",
    "    LSTM(128, return_sequences=False),\n",
    "    Dense(128, activation='relu'),\n",
    "    Dropout(0.5),\n",
    "    Dense(1, activation='sigmoid')\n",
    "])\n",
    "\n",
    "rnn_model.compile(optimizer='adam', loss='binary_crossentropy', metrics=['accuracy'])\n",
    "\n",
    "rnn_model.fit(X_train_padded, y_train_encoded, epochs=5, validation_data=(X_test_padded, y_test_encoded))"
   ]
  },
  {
   "cell_type": "code",
   "execution_count": 19,
   "id": "edd550b3",
   "metadata": {
    "execution": {
     "iopub.execute_input": "2024-08-22T21:39:18.676750Z",
     "iopub.status.busy": "2024-08-22T21:39:18.676218Z",
     "iopub.status.idle": "2024-08-22T21:39:18.705884Z",
     "shell.execute_reply": "2024-08-22T21:39:18.704296Z"
    },
    "papermill": {
     "duration": 0.669492,
     "end_time": "2024-08-22T21:39:18.708950",
     "exception": false,
     "start_time": "2024-08-22T21:39:18.039458",
     "status": "completed"
    },
    "tags": []
   },
   "outputs": [
    {
     "data": {
      "text/html": [
       "<pre style=\"white-space:pre;overflow-x:auto;line-height:normal;font-family:Menlo,'DejaVu Sans Mono',consolas,'Courier New',monospace\"><span style=\"font-weight: bold\">Model: \"sequential\"</span>\n",
       "</pre>\n"
      ],
      "text/plain": [
       "\u001b[1mModel: \"sequential\"\u001b[0m\n"
      ]
     },
     "metadata": {},
     "output_type": "display_data"
    },
    {
     "data": {
      "text/html": [
       "<pre style=\"white-space:pre;overflow-x:auto;line-height:normal;font-family:Menlo,'DejaVu Sans Mono',consolas,'Courier New',monospace\">┏━━━━━━━━━━━━━━━━━━━━━━━━━━━━━━━━━┳━━━━━━━━━━━━━━━━━━━━━━━━┳━━━━━━━━━━━━━━━┓\n",
       "┃<span style=\"font-weight: bold\"> Layer (type)                    </span>┃<span style=\"font-weight: bold\"> Output Shape           </span>┃<span style=\"font-weight: bold\">       Param # </span>┃\n",
       "┡━━━━━━━━━━━━━━━━━━━━━━━━━━━━━━━━━╇━━━━━━━━━━━━━━━━━━━━━━━━╇━━━━━━━━━━━━━━━┩\n",
       "│ embedding (<span style=\"color: #0087ff; text-decoration-color: #0087ff\">Embedding</span>)           │ (<span style=\"color: #00af00; text-decoration-color: #00af00\">32</span>, <span style=\"color: #00af00; text-decoration-color: #00af00\">200</span>, <span style=\"color: #00af00; text-decoration-color: #00af00\">128</span>)         │       <span style=\"color: #00af00; text-decoration-color: #00af00\">640,000</span> │\n",
       "├─────────────────────────────────┼────────────────────────┼───────────────┤\n",
       "│ lstm (<span style=\"color: #0087ff; text-decoration-color: #0087ff\">LSTM</span>)                     │ (<span style=\"color: #00af00; text-decoration-color: #00af00\">32</span>, <span style=\"color: #00af00; text-decoration-color: #00af00\">128</span>)              │       <span style=\"color: #00af00; text-decoration-color: #00af00\">131,584</span> │\n",
       "├─────────────────────────────────┼────────────────────────┼───────────────┤\n",
       "│ dense (<span style=\"color: #0087ff; text-decoration-color: #0087ff\">Dense</span>)                   │ (<span style=\"color: #00af00; text-decoration-color: #00af00\">32</span>, <span style=\"color: #00af00; text-decoration-color: #00af00\">128</span>)              │        <span style=\"color: #00af00; text-decoration-color: #00af00\">16,512</span> │\n",
       "├─────────────────────────────────┼────────────────────────┼───────────────┤\n",
       "│ dropout (<span style=\"color: #0087ff; text-decoration-color: #0087ff\">Dropout</span>)               │ (<span style=\"color: #00af00; text-decoration-color: #00af00\">32</span>, <span style=\"color: #00af00; text-decoration-color: #00af00\">128</span>)              │             <span style=\"color: #00af00; text-decoration-color: #00af00\">0</span> │\n",
       "├─────────────────────────────────┼────────────────────────┼───────────────┤\n",
       "│ dense_1 (<span style=\"color: #0087ff; text-decoration-color: #0087ff\">Dense</span>)                 │ (<span style=\"color: #00af00; text-decoration-color: #00af00\">32</span>, <span style=\"color: #00af00; text-decoration-color: #00af00\">1</span>)                │           <span style=\"color: #00af00; text-decoration-color: #00af00\">129</span> │\n",
       "└─────────────────────────────────┴────────────────────────┴───────────────┘\n",
       "</pre>\n"
      ],
      "text/plain": [
       "┏━━━━━━━━━━━━━━━━━━━━━━━━━━━━━━━━━┳━━━━━━━━━━━━━━━━━━━━━━━━┳━━━━━━━━━━━━━━━┓\n",
       "┃\u001b[1m \u001b[0m\u001b[1mLayer (type)                   \u001b[0m\u001b[1m \u001b[0m┃\u001b[1m \u001b[0m\u001b[1mOutput Shape          \u001b[0m\u001b[1m \u001b[0m┃\u001b[1m \u001b[0m\u001b[1m      Param #\u001b[0m\u001b[1m \u001b[0m┃\n",
       "┡━━━━━━━━━━━━━━━━━━━━━━━━━━━━━━━━━╇━━━━━━━━━━━━━━━━━━━━━━━━╇━━━━━━━━━━━━━━━┩\n",
       "│ embedding (\u001b[38;5;33mEmbedding\u001b[0m)           │ (\u001b[38;5;34m32\u001b[0m, \u001b[38;5;34m200\u001b[0m, \u001b[38;5;34m128\u001b[0m)         │       \u001b[38;5;34m640,000\u001b[0m │\n",
       "├─────────────────────────────────┼────────────────────────┼───────────────┤\n",
       "│ lstm (\u001b[38;5;33mLSTM\u001b[0m)                     │ (\u001b[38;5;34m32\u001b[0m, \u001b[38;5;34m128\u001b[0m)              │       \u001b[38;5;34m131,584\u001b[0m │\n",
       "├─────────────────────────────────┼────────────────────────┼───────────────┤\n",
       "│ dense (\u001b[38;5;33mDense\u001b[0m)                   │ (\u001b[38;5;34m32\u001b[0m, \u001b[38;5;34m128\u001b[0m)              │        \u001b[38;5;34m16,512\u001b[0m │\n",
       "├─────────────────────────────────┼────────────────────────┼───────────────┤\n",
       "│ dropout (\u001b[38;5;33mDropout\u001b[0m)               │ (\u001b[38;5;34m32\u001b[0m, \u001b[38;5;34m128\u001b[0m)              │             \u001b[38;5;34m0\u001b[0m │\n",
       "├─────────────────────────────────┼────────────────────────┼───────────────┤\n",
       "│ dense_1 (\u001b[38;5;33mDense\u001b[0m)                 │ (\u001b[38;5;34m32\u001b[0m, \u001b[38;5;34m1\u001b[0m)                │           \u001b[38;5;34m129\u001b[0m │\n",
       "└─────────────────────────────────┴────────────────────────┴───────────────┘\n"
      ]
     },
     "metadata": {},
     "output_type": "display_data"
    },
    {
     "data": {
      "text/html": [
       "<pre style=\"white-space:pre;overflow-x:auto;line-height:normal;font-family:Menlo,'DejaVu Sans Mono',consolas,'Courier New',monospace\"><span style=\"font-weight: bold\"> Total params: </span><span style=\"color: #00af00; text-decoration-color: #00af00\">2,364,677</span> (9.02 MB)\n",
       "</pre>\n"
      ],
      "text/plain": [
       "\u001b[1m Total params: \u001b[0m\u001b[38;5;34m2,364,677\u001b[0m (9.02 MB)\n"
      ]
     },
     "metadata": {},
     "output_type": "display_data"
    },
    {
     "data": {
      "text/html": [
       "<pre style=\"white-space:pre;overflow-x:auto;line-height:normal;font-family:Menlo,'DejaVu Sans Mono',consolas,'Courier New',monospace\"><span style=\"font-weight: bold\"> Trainable params: </span><span style=\"color: #00af00; text-decoration-color: #00af00\">788,225</span> (3.01 MB)\n",
       "</pre>\n"
      ],
      "text/plain": [
       "\u001b[1m Trainable params: \u001b[0m\u001b[38;5;34m788,225\u001b[0m (3.01 MB)\n"
      ]
     },
     "metadata": {},
     "output_type": "display_data"
    },
    {
     "data": {
      "text/html": [
       "<pre style=\"white-space:pre;overflow-x:auto;line-height:normal;font-family:Menlo,'DejaVu Sans Mono',consolas,'Courier New',monospace\"><span style=\"font-weight: bold\"> Non-trainable params: </span><span style=\"color: #00af00; text-decoration-color: #00af00\">0</span> (0.00 B)\n",
       "</pre>\n"
      ],
      "text/plain": [
       "\u001b[1m Non-trainable params: \u001b[0m\u001b[38;5;34m0\u001b[0m (0.00 B)\n"
      ]
     },
     "metadata": {},
     "output_type": "display_data"
    },
    {
     "data": {
      "text/html": [
       "<pre style=\"white-space:pre;overflow-x:auto;line-height:normal;font-family:Menlo,'DejaVu Sans Mono',consolas,'Courier New',monospace\"><span style=\"font-weight: bold\"> Optimizer params: </span><span style=\"color: #00af00; text-decoration-color: #00af00\">1,576,452</span> (6.01 MB)\n",
       "</pre>\n"
      ],
      "text/plain": [
       "\u001b[1m Optimizer params: \u001b[0m\u001b[38;5;34m1,576,452\u001b[0m (6.01 MB)\n"
      ]
     },
     "metadata": {},
     "output_type": "display_data"
    }
   ],
   "source": [
    "rnn_model.summary()"
   ]
  },
  {
   "cell_type": "markdown",
   "id": "13ce1f97",
   "metadata": {
    "papermill": {
     "duration": 0.741766,
     "end_time": "2024-08-22T21:39:20.092385",
     "exception": false,
     "start_time": "2024-08-22T21:39:19.350619",
     "status": "completed"
    },
    "tags": []
   },
   "source": [
    "<u>\n",
    "    <h1 style=\"text-shadow: 2px 2px 4px rgba(0, 0, 0, 0.5); font-weight: bold; margin-bottom: 10px;\"><span style=\"color: red;\"></span>Using RCNN Model</h1>\n",
    "</u>"
   ]
  },
  {
   "cell_type": "code",
   "execution_count": 20,
   "id": "26b1af68",
   "metadata": {
    "execution": {
     "iopub.execute_input": "2024-08-22T21:39:21.360696Z",
     "iopub.status.busy": "2024-08-22T21:39:21.360163Z",
     "iopub.status.idle": "2024-08-22T21:50:26.899878Z",
     "shell.execute_reply": "2024-08-22T21:50:26.898507Z"
    },
    "papermill": {
     "duration": 667.082475,
     "end_time": "2024-08-22T21:50:27.805586",
     "exception": false,
     "start_time": "2024-08-22T21:39:20.723111",
     "status": "completed"
    },
    "tags": []
   },
   "outputs": [
    {
     "name": "stdout",
     "output_type": "stream",
     "text": [
      "Epoch 1/2\n",
      "\u001b[1m1250/1250\u001b[0m \u001b[32m━━━━━━━━━━━━━━━━━━━━\u001b[0m\u001b[37m\u001b[0m \u001b[1m326s\u001b[0m 257ms/step - accuracy: 0.7192 - loss: 0.5029 - val_accuracy: 0.8751 - val_loss: 0.2944\n",
      "Epoch 2/2\n",
      "\u001b[1m1250/1250\u001b[0m \u001b[32m━━━━━━━━━━━━━━━━━━━━\u001b[0m\u001b[37m\u001b[0m \u001b[1m339s\u001b[0m 272ms/step - accuracy: 0.8948 - loss: 0.2575 - val_accuracy: 0.8923 - val_loss: 0.2642\n"
     ]
    },
    {
     "data": {
      "text/html": [
       "<pre style=\"white-space:pre;overflow-x:auto;line-height:normal;font-family:Menlo,'DejaVu Sans Mono',consolas,'Courier New',monospace\"><span style=\"font-weight: bold\">Model: \"sequential_1\"</span>\n",
       "</pre>\n"
      ],
      "text/plain": [
       "\u001b[1mModel: \"sequential_1\"\u001b[0m\n"
      ]
     },
     "metadata": {},
     "output_type": "display_data"
    },
    {
     "data": {
      "text/html": [
       "<pre style=\"white-space:pre;overflow-x:auto;line-height:normal;font-family:Menlo,'DejaVu Sans Mono',consolas,'Courier New',monospace\">┏━━━━━━━━━━━━━━━━━━━━━━━━━━━━━━━━━┳━━━━━━━━━━━━━━━━━━━━━━━━┳━━━━━━━━━━━━━━━┓\n",
       "┃<span style=\"font-weight: bold\"> Layer (type)                    </span>┃<span style=\"font-weight: bold\"> Output Shape           </span>┃<span style=\"font-weight: bold\">       Param # </span>┃\n",
       "┡━━━━━━━━━━━━━━━━━━━━━━━━━━━━━━━━━╇━━━━━━━━━━━━━━━━━━━━━━━━╇━━━━━━━━━━━━━━━┩\n",
       "│ embedding_1 (<span style=\"color: #0087ff; text-decoration-color: #0087ff\">Embedding</span>)         │ (<span style=\"color: #00af00; text-decoration-color: #00af00\">32</span>, <span style=\"color: #00af00; text-decoration-color: #00af00\">200</span>, <span style=\"color: #00af00; text-decoration-color: #00af00\">128</span>)         │       <span style=\"color: #00af00; text-decoration-color: #00af00\">640,000</span> │\n",
       "├─────────────────────────────────┼────────────────────────┼───────────────┤\n",
       "│ conv1d (<span style=\"color: #0087ff; text-decoration-color: #0087ff\">Conv1D</span>)                 │ (<span style=\"color: #00af00; text-decoration-color: #00af00\">32</span>, <span style=\"color: #00af00; text-decoration-color: #00af00\">196</span>, <span style=\"color: #00af00; text-decoration-color: #00af00\">128</span>)         │        <span style=\"color: #00af00; text-decoration-color: #00af00\">82,048</span> │\n",
       "├─────────────────────────────────┼────────────────────────┼───────────────┤\n",
       "│ max_pooling1d (<span style=\"color: #0087ff; text-decoration-color: #0087ff\">MaxPooling1D</span>)    │ (<span style=\"color: #00af00; text-decoration-color: #00af00\">32</span>, <span style=\"color: #00af00; text-decoration-color: #00af00\">98</span>, <span style=\"color: #00af00; text-decoration-color: #00af00\">128</span>)          │             <span style=\"color: #00af00; text-decoration-color: #00af00\">0</span> │\n",
       "├─────────────────────────────────┼────────────────────────┼───────────────┤\n",
       "│ bidirectional (<span style=\"color: #0087ff; text-decoration-color: #0087ff\">Bidirectional</span>)   │ (<span style=\"color: #00af00; text-decoration-color: #00af00\">32</span>, <span style=\"color: #00af00; text-decoration-color: #00af00\">256</span>)              │       <span style=\"color: #00af00; text-decoration-color: #00af00\">263,168</span> │\n",
       "├─────────────────────────────────┼────────────────────────┼───────────────┤\n",
       "│ dense_2 (<span style=\"color: #0087ff; text-decoration-color: #0087ff\">Dense</span>)                 │ (<span style=\"color: #00af00; text-decoration-color: #00af00\">32</span>, <span style=\"color: #00af00; text-decoration-color: #00af00\">128</span>)              │        <span style=\"color: #00af00; text-decoration-color: #00af00\">32,896</span> │\n",
       "├─────────────────────────────────┼────────────────────────┼───────────────┤\n",
       "│ dropout_1 (<span style=\"color: #0087ff; text-decoration-color: #0087ff\">Dropout</span>)             │ (<span style=\"color: #00af00; text-decoration-color: #00af00\">32</span>, <span style=\"color: #00af00; text-decoration-color: #00af00\">128</span>)              │             <span style=\"color: #00af00; text-decoration-color: #00af00\">0</span> │\n",
       "├─────────────────────────────────┼────────────────────────┼───────────────┤\n",
       "│ dense_3 (<span style=\"color: #0087ff; text-decoration-color: #0087ff\">Dense</span>)                 │ (<span style=\"color: #00af00; text-decoration-color: #00af00\">32</span>, <span style=\"color: #00af00; text-decoration-color: #00af00\">1</span>)                │           <span style=\"color: #00af00; text-decoration-color: #00af00\">129</span> │\n",
       "└─────────────────────────────────┴────────────────────────┴───────────────┘\n",
       "</pre>\n"
      ],
      "text/plain": [
       "┏━━━━━━━━━━━━━━━━━━━━━━━━━━━━━━━━━┳━━━━━━━━━━━━━━━━━━━━━━━━┳━━━━━━━━━━━━━━━┓\n",
       "┃\u001b[1m \u001b[0m\u001b[1mLayer (type)                   \u001b[0m\u001b[1m \u001b[0m┃\u001b[1m \u001b[0m\u001b[1mOutput Shape          \u001b[0m\u001b[1m \u001b[0m┃\u001b[1m \u001b[0m\u001b[1m      Param #\u001b[0m\u001b[1m \u001b[0m┃\n",
       "┡━━━━━━━━━━━━━━━━━━━━━━━━━━━━━━━━━╇━━━━━━━━━━━━━━━━━━━━━━━━╇━━━━━━━━━━━━━━━┩\n",
       "│ embedding_1 (\u001b[38;5;33mEmbedding\u001b[0m)         │ (\u001b[38;5;34m32\u001b[0m, \u001b[38;5;34m200\u001b[0m, \u001b[38;5;34m128\u001b[0m)         │       \u001b[38;5;34m640,000\u001b[0m │\n",
       "├─────────────────────────────────┼────────────────────────┼───────────────┤\n",
       "│ conv1d (\u001b[38;5;33mConv1D\u001b[0m)                 │ (\u001b[38;5;34m32\u001b[0m, \u001b[38;5;34m196\u001b[0m, \u001b[38;5;34m128\u001b[0m)         │        \u001b[38;5;34m82,048\u001b[0m │\n",
       "├─────────────────────────────────┼────────────────────────┼───────────────┤\n",
       "│ max_pooling1d (\u001b[38;5;33mMaxPooling1D\u001b[0m)    │ (\u001b[38;5;34m32\u001b[0m, \u001b[38;5;34m98\u001b[0m, \u001b[38;5;34m128\u001b[0m)          │             \u001b[38;5;34m0\u001b[0m │\n",
       "├─────────────────────────────────┼────────────────────────┼───────────────┤\n",
       "│ bidirectional (\u001b[38;5;33mBidirectional\u001b[0m)   │ (\u001b[38;5;34m32\u001b[0m, \u001b[38;5;34m256\u001b[0m)              │       \u001b[38;5;34m263,168\u001b[0m │\n",
       "├─────────────────────────────────┼────────────────────────┼───────────────┤\n",
       "│ dense_2 (\u001b[38;5;33mDense\u001b[0m)                 │ (\u001b[38;5;34m32\u001b[0m, \u001b[38;5;34m128\u001b[0m)              │        \u001b[38;5;34m32,896\u001b[0m │\n",
       "├─────────────────────────────────┼────────────────────────┼───────────────┤\n",
       "│ dropout_1 (\u001b[38;5;33mDropout\u001b[0m)             │ (\u001b[38;5;34m32\u001b[0m, \u001b[38;5;34m128\u001b[0m)              │             \u001b[38;5;34m0\u001b[0m │\n",
       "├─────────────────────────────────┼────────────────────────┼───────────────┤\n",
       "│ dense_3 (\u001b[38;5;33mDense\u001b[0m)                 │ (\u001b[38;5;34m32\u001b[0m, \u001b[38;5;34m1\u001b[0m)                │           \u001b[38;5;34m129\u001b[0m │\n",
       "└─────────────────────────────────┴────────────────────────┴───────────────┘\n"
      ]
     },
     "metadata": {},
     "output_type": "display_data"
    },
    {
     "data": {
      "text/html": [
       "<pre style=\"white-space:pre;overflow-x:auto;line-height:normal;font-family:Menlo,'DejaVu Sans Mono',consolas,'Courier New',monospace\"><span style=\"font-weight: bold\"> Total params: </span><span style=\"color: #00af00; text-decoration-color: #00af00\">3,054,725</span> (11.65 MB)\n",
       "</pre>\n"
      ],
      "text/plain": [
       "\u001b[1m Total params: \u001b[0m\u001b[38;5;34m3,054,725\u001b[0m (11.65 MB)\n"
      ]
     },
     "metadata": {},
     "output_type": "display_data"
    },
    {
     "data": {
      "text/html": [
       "<pre style=\"white-space:pre;overflow-x:auto;line-height:normal;font-family:Menlo,'DejaVu Sans Mono',consolas,'Courier New',monospace\"><span style=\"font-weight: bold\"> Trainable params: </span><span style=\"color: #00af00; text-decoration-color: #00af00\">1,018,241</span> (3.88 MB)\n",
       "</pre>\n"
      ],
      "text/plain": [
       "\u001b[1m Trainable params: \u001b[0m\u001b[38;5;34m1,018,241\u001b[0m (3.88 MB)\n"
      ]
     },
     "metadata": {},
     "output_type": "display_data"
    },
    {
     "data": {
      "text/html": [
       "<pre style=\"white-space:pre;overflow-x:auto;line-height:normal;font-family:Menlo,'DejaVu Sans Mono',consolas,'Courier New',monospace\"><span style=\"font-weight: bold\"> Non-trainable params: </span><span style=\"color: #00af00; text-decoration-color: #00af00\">0</span> (0.00 B)\n",
       "</pre>\n"
      ],
      "text/plain": [
       "\u001b[1m Non-trainable params: \u001b[0m\u001b[38;5;34m0\u001b[0m (0.00 B)\n"
      ]
     },
     "metadata": {},
     "output_type": "display_data"
    },
    {
     "data": {
      "text/html": [
       "<pre style=\"white-space:pre;overflow-x:auto;line-height:normal;font-family:Menlo,'DejaVu Sans Mono',consolas,'Courier New',monospace\"><span style=\"font-weight: bold\"> Optimizer params: </span><span style=\"color: #00af00; text-decoration-color: #00af00\">2,036,484</span> (7.77 MB)\n",
       "</pre>\n"
      ],
      "text/plain": [
       "\u001b[1m Optimizer params: \u001b[0m\u001b[38;5;34m2,036,484\u001b[0m (7.77 MB)\n"
      ]
     },
     "metadata": {},
     "output_type": "display_data"
    }
   ],
   "source": [
    "rcnn_model = Sequential([\n",
    "    Embedding(input_dim=5000, output_dim=128, input_length=200),\n",
    "    Conv1D(128, kernel_size=5, activation='relu'),\n",
    "    MaxPooling1D(pool_size=2),\n",
    "    Bidirectional(LSTM(128, return_sequences=False)),\n",
    "    Dense(128, activation='relu'),\n",
    "    Dropout(0.5),\n",
    "    Dense(1, activation='sigmoid')\n",
    "])\n",
    "\n",
    "rcnn_model.compile(optimizer='adam', loss='binary_crossentropy', metrics=['accuracy'])\n",
    "rcnn_model.fit(X_train_padded, y_train_encoded, epochs=2, validation_data=(X_test_padded, y_test_encoded))\n",
    "rcnn_model.summary()"
   ]
  },
  {
   "cell_type": "code",
   "execution_count": 21,
   "id": "90d85309",
   "metadata": {
    "execution": {
     "iopub.execute_input": "2024-08-22T21:50:29.623841Z",
     "iopub.status.busy": "2024-08-22T21:50:29.623378Z",
     "iopub.status.idle": "2024-08-22T21:51:30.259308Z",
     "shell.execute_reply": "2024-08-22T21:51:30.257595Z"
    },
    "papermill": {
     "duration": 61.501079,
     "end_time": "2024-08-22T21:51:30.262319",
     "exception": false,
     "start_time": "2024-08-22T21:50:28.761240",
     "status": "completed"
    },
    "tags": []
   },
   "outputs": [
    {
     "name": "stdout",
     "output_type": "stream",
     "text": [
      "\u001b[1m313/313\u001b[0m \u001b[32m━━━━━━━━━━━━━━━━━━━━\u001b[0m\u001b[37m\u001b[0m \u001b[1m34s\u001b[0m 109ms/step - accuracy: 0.8850 - loss: 0.2995\n",
      "RNN Accuracy: 0.8865\n",
      "\u001b[1m313/313\u001b[0m \u001b[32m━━━━━━━━━━━━━━━━━━━━\u001b[0m\u001b[37m\u001b[0m \u001b[1m26s\u001b[0m 84ms/step - accuracy: 0.8899 - loss: 0.2701\n",
      "RCNN Accuracy: 0.8923\n"
     ]
    }
   ],
   "source": [
    "rnn_loss, rnn_acc = rnn_model.evaluate(X_test_padded, y_test_encoded)\n",
    "print(f'RNN Accuracy: {rnn_acc:.4f}')\n",
    "\n",
    "rcnn_loss, rcnn_acc = rcnn_model.evaluate(X_test_padded, y_test_encoded)\n",
    "print(f'RCNN Accuracy: {rcnn_acc:.4f}')"
   ]
  },
  {
   "cell_type": "code",
   "execution_count": 22,
   "id": "24b59e1c",
   "metadata": {
    "execution": {
     "iopub.execute_input": "2024-08-22T21:51:32.194547Z",
     "iopub.status.busy": "2024-08-22T21:51:32.192760Z",
     "iopub.status.idle": "2024-08-22T21:51:32.714881Z",
     "shell.execute_reply": "2024-08-22T21:51:32.713429Z"
    },
    "papermill": {
     "duration": 1.526399,
     "end_time": "2024-08-22T21:51:32.717576",
     "exception": false,
     "start_time": "2024-08-22T21:51:31.191177",
     "status": "completed"
    },
    "tags": []
   },
   "outputs": [
    {
     "name": "stdout",
     "output_type": "stream",
     "text": [
      "\u001b[1m1/1\u001b[0m \u001b[32m━━━━━━━━━━━━━━━━━━━━\u001b[0m\u001b[37m\u001b[0m \u001b[1m0s\u001b[0m 432ms/step\n",
      "Sentiment: Positive\n"
     ]
    }
   ],
   "source": [
    "best_model = rcnn_model  \n",
    "\n",
    "sample_review = [\"This movie was fantastic! A wonderful experience.\"]\n",
    "sample_seq = token.texts_to_sequences(sample_review)\n",
    "sample_padded = pad_sequences(sample_seq, padding='post', maxlen=200)\n",
    "\n",
    "prediction = best_model.predict(sample_padded)\n",
    "print(\"Sentiment:\", \"Positive\" if prediction[0] > 0.5 else \"Negative\")\n"
   ]
  },
  {
   "cell_type": "code",
   "execution_count": 23,
   "id": "5c212d76",
   "metadata": {
    "execution": {
     "iopub.execute_input": "2024-08-22T21:51:34.637445Z",
     "iopub.status.busy": "2024-08-22T21:51:34.637027Z",
     "iopub.status.idle": "2024-08-22T21:51:34.749823Z",
     "shell.execute_reply": "2024-08-22T21:51:34.748390Z"
    },
    "papermill": {
     "duration": 1.114513,
     "end_time": "2024-08-22T21:51:34.752221",
     "exception": false,
     "start_time": "2024-08-22T21:51:33.637708",
     "status": "completed"
    },
    "tags": []
   },
   "outputs": [
    {
     "name": "stdout",
     "output_type": "stream",
     "text": [
      "\u001b[1m1/1\u001b[0m \u001b[32m━━━━━━━━━━━━━━━━━━━━\u001b[0m\u001b[37m\u001b[0m \u001b[1m0s\u001b[0m 42ms/step\n",
      "Sentiment: Negative\n"
     ]
    }
   ],
   "source": [
    "best_model = rcnn_model  \n",
    "\n",
    "sample_review = [\"This movie was worst I ever seen!\"]\n",
    "sample_seq = token.texts_to_sequences(sample_review)\n",
    "sample_padded = pad_sequences(sample_seq, padding='post', maxlen=200)\n",
    "\n",
    "prediction = best_model.predict(sample_padded)\n",
    "print(\"Sentiment:\", \"Positive\" if prediction[0] > 0.5 else \"Negative\")\n"
   ]
  }
 ],
 "metadata": {
  "kaggle": {
   "accelerator": "none",
   "dataSources": [
    {
     "datasetId": 134715,
     "sourceId": 320111,
     "sourceType": "datasetVersion"
    }
   ],
   "dockerImageVersionId": 30746,
   "isGpuEnabled": false,
   "isInternetEnabled": true,
   "language": "python",
   "sourceType": "notebook"
  },
  "kernelspec": {
   "display_name": "Python 3",
   "language": "python",
   "name": "python3"
  },
  "language_info": {
   "codemirror_mode": {
    "name": "ipython",
    "version": 3
   },
   "file_extension": ".py",
   "mimetype": "text/x-python",
   "name": "python",
   "nbconvert_exporter": "python",
   "pygments_lexer": "ipython3",
   "version": "3.10.13"
  },
  "papermill": {
   "default_parameters": {},
   "duration": 2665.677719,
   "end_time": "2024-08-22T21:51:38.405395",
   "environment_variables": {},
   "exception": null,
   "input_path": "__notebook__.ipynb",
   "output_path": "__notebook__.ipynb",
   "parameters": {},
   "start_time": "2024-08-22T21:07:12.727676",
   "version": "2.5.0"
  }
 },
 "nbformat": 4,
 "nbformat_minor": 5
}
